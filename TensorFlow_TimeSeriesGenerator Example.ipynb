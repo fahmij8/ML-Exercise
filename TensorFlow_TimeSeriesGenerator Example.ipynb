{
  "nbformat": 4,
  "nbformat_minor": 0,
  "metadata": {
    "colab": {
      "name": "Playground.ipynb",
      "provenance": []
    },
    "kernelspec": {
      "name": "python3",
      "display_name": "Python 3"
    },
    "accelerator": "TPU"
  },
  "cells": [
    {
      "cell_type": "code",
      "metadata": {
        "id": "ujsyT9u9udnJ"
      },
      "source": [
        "import os\r\n",
        "os.environ['KAGGLE_USERNAME'] = \"\"\r\n",
        "os.environ['KAGGLE_KEY'] = \"\""
      ],
      "execution_count": 1,
      "outputs": []
    },
    {
      "cell_type": "code",
      "metadata": {
        "colab": {
          "base_uri": "https://localhost:8080/"
        },
        "id": "11sHAoYlu_wq",
        "outputId": "0eb0f951-fd74-4fe7-82d3-870fcf09a280"
      },
      "source": [
        "!kaggle datasets download -d robikscube/hourly-energy-consumption"
      ],
      "execution_count": 2,
      "outputs": [
        {
          "output_type": "stream",
          "text": [
            "Downloading hourly-energy-consumption.zip to /content\n",
            " 61% 7.00M/11.4M [00:00<00:00, 30.0MB/s]\n",
            "100% 11.4M/11.4M [00:00<00:00, 38.0MB/s]\n"
          ],
          "name": "stdout"
        }
      ]
    },
    {
      "cell_type": "code",
      "metadata": {
        "colab": {
          "base_uri": "https://localhost:8080/"
        },
        "id": "YkkjRh4fwCN7",
        "outputId": "3ef41f33-6065-4f7e-d205-bdfe1bfceb87"
      },
      "source": [
        "!unzip /content/hourly-energy-consumption.zip"
      ],
      "execution_count": 3,
      "outputs": [
        {
          "output_type": "stream",
          "text": [
            "Archive:  /content/hourly-energy-consumption.zip\n",
            "  inflating: AEP_hourly.csv          \n",
            "  inflating: COMED_hourly.csv        \n",
            "  inflating: DAYTON_hourly.csv       \n",
            "  inflating: DEOK_hourly.csv         \n",
            "  inflating: DOM_hourly.csv          \n",
            "  inflating: DUQ_hourly.csv          \n",
            "  inflating: EKPC_hourly.csv         \n",
            "  inflating: FE_hourly.csv           \n",
            "  inflating: NI_hourly.csv           \n",
            "  inflating: PJME_hourly.csv         \n",
            "  inflating: PJMW_hourly.csv         \n",
            "  inflating: PJM_Load_hourly.csv     \n",
            "  inflating: est_hourly.paruqet      \n",
            "  inflating: pjm_hourly_est.csv      \n"
          ],
          "name": "stdout"
        }
      ]
    },
    {
      "cell_type": "code",
      "metadata": {
        "id": "DZd7U7J0wPxL"
      },
      "source": [
        "import pandas as pd\r\n",
        "import numpy as np\r\n",
        "import tensorflow as tf\r\n",
        "import matplotlib.pyplot as plt\r\n",
        "\r\n",
        "from sklearn.model_selection import train_test_split\r\n",
        "from keras.preprocessing.sequence import TimeseriesGenerator\r\n",
        "from sklearn.preprocessing import MinMaxScaler"
      ],
      "execution_count": 72,
      "outputs": []
    },
    {
      "cell_type": "code",
      "metadata": {
        "colab": {
          "base_uri": "https://localhost:8080/",
          "height": 419
        },
        "id": "g8KqJIg1wWUp",
        "outputId": "ea1f7cf6-2c76-48f9-9b37-45c521341b28"
      },
      "source": [
        "df = pd.read_csv('/content/AEP_hourly.csv', parse_dates=[0])\r\n",
        "df"
      ],
      "execution_count": 468,
      "outputs": [
        {
          "output_type": "execute_result",
          "data": {
            "text/html": [
              "<div>\n",
              "<style scoped>\n",
              "    .dataframe tbody tr th:only-of-type {\n",
              "        vertical-align: middle;\n",
              "    }\n",
              "\n",
              "    .dataframe tbody tr th {\n",
              "        vertical-align: top;\n",
              "    }\n",
              "\n",
              "    .dataframe thead th {\n",
              "        text-align: right;\n",
              "    }\n",
              "</style>\n",
              "<table border=\"1\" class=\"dataframe\">\n",
              "  <thead>\n",
              "    <tr style=\"text-align: right;\">\n",
              "      <th></th>\n",
              "      <th>Datetime</th>\n",
              "      <th>AEP_MW</th>\n",
              "    </tr>\n",
              "  </thead>\n",
              "  <tbody>\n",
              "    <tr>\n",
              "      <th>0</th>\n",
              "      <td>2004-12-31 01:00:00</td>\n",
              "      <td>13478.0</td>\n",
              "    </tr>\n",
              "    <tr>\n",
              "      <th>1</th>\n",
              "      <td>2004-12-31 02:00:00</td>\n",
              "      <td>12865.0</td>\n",
              "    </tr>\n",
              "    <tr>\n",
              "      <th>2</th>\n",
              "      <td>2004-12-31 03:00:00</td>\n",
              "      <td>12577.0</td>\n",
              "    </tr>\n",
              "    <tr>\n",
              "      <th>3</th>\n",
              "      <td>2004-12-31 04:00:00</td>\n",
              "      <td>12517.0</td>\n",
              "    </tr>\n",
              "    <tr>\n",
              "      <th>4</th>\n",
              "      <td>2004-12-31 05:00:00</td>\n",
              "      <td>12670.0</td>\n",
              "    </tr>\n",
              "    <tr>\n",
              "      <th>...</th>\n",
              "      <td>...</td>\n",
              "      <td>...</td>\n",
              "    </tr>\n",
              "    <tr>\n",
              "      <th>121268</th>\n",
              "      <td>2018-01-01 20:00:00</td>\n",
              "      <td>21089.0</td>\n",
              "    </tr>\n",
              "    <tr>\n",
              "      <th>121269</th>\n",
              "      <td>2018-01-01 21:00:00</td>\n",
              "      <td>20999.0</td>\n",
              "    </tr>\n",
              "    <tr>\n",
              "      <th>121270</th>\n",
              "      <td>2018-01-01 22:00:00</td>\n",
              "      <td>20820.0</td>\n",
              "    </tr>\n",
              "    <tr>\n",
              "      <th>121271</th>\n",
              "      <td>2018-01-01 23:00:00</td>\n",
              "      <td>20415.0</td>\n",
              "    </tr>\n",
              "    <tr>\n",
              "      <th>121272</th>\n",
              "      <td>2018-01-02 00:00:00</td>\n",
              "      <td>19993.0</td>\n",
              "    </tr>\n",
              "  </tbody>\n",
              "</table>\n",
              "<p>121273 rows × 2 columns</p>\n",
              "</div>"
            ],
            "text/plain": [
              "                  Datetime   AEP_MW\n",
              "0      2004-12-31 01:00:00  13478.0\n",
              "1      2004-12-31 02:00:00  12865.0\n",
              "2      2004-12-31 03:00:00  12577.0\n",
              "3      2004-12-31 04:00:00  12517.0\n",
              "4      2004-12-31 05:00:00  12670.0\n",
              "...                    ...      ...\n",
              "121268 2018-01-01 20:00:00  21089.0\n",
              "121269 2018-01-01 21:00:00  20999.0\n",
              "121270 2018-01-01 22:00:00  20820.0\n",
              "121271 2018-01-01 23:00:00  20415.0\n",
              "121272 2018-01-02 00:00:00  19993.0\n",
              "\n",
              "[121273 rows x 2 columns]"
            ]
          },
          "metadata": {
            "tags": []
          },
          "execution_count": 468
        }
      ]
    },
    {
      "cell_type": "code",
      "metadata": {
        "id": "q_55Qimwzgx3"
      },
      "source": [
        "df = df[:-120273] "
      ],
      "execution_count": 469,
      "outputs": []
    },
    {
      "cell_type": "code",
      "metadata": {
        "colab": {
          "base_uri": "https://localhost:8080/",
          "height": 285
        },
        "id": "AbL-Fsqiz2_S",
        "outputId": "758394f0-be16-465b-a462-ce5ac3c307ee"
      },
      "source": [
        "df.plot(x='Datetime')\r\n",
        "plt.show()"
      ],
      "execution_count": 470,
      "outputs": [
        {
          "output_type": "display_data",
          "data": {
            "image/png": "[encoded data removed]",
            "text/plain": [
              "<Figure size 432x288 with 1 Axes>"
            ]
          },
          "metadata": {
            "tags": [],
            "needs_background": "light"
          }
        }
      ]
    },
    {
      "cell_type": "code",
      "metadata": {
        "colab": {
          "base_uri": "https://localhost:8080/"
        },
        "id": "H517pw8M41zD",
        "outputId": "f8c8e645-efc8-4dfd-eeec-8a1a9355ab0d"
      },
      "source": [
        "minmaxscaler = MinMaxScaler(feature_range = (0,1))\r\n",
        "scaled = minmaxscaler.fit_transform(df[['AEP_MW']])\r\n",
        "df[['AEP_MW']] = scaled"
      ],
      "execution_count": 471,
      "outputs": [
        {
          "output_type": "stream",
          "text": [
            "/usr/local/lib/python3.6/dist-packages/ipykernel_launcher.py:3: SettingWithCopyWarning: \n",
            "A value is trying to be set on a copy of a slice from a DataFrame.\n",
            "Try using .loc[row_indexer,col_indexer] = value instead\n",
            "\n",
            "See the caveats in the documentation: https://pandas.pydata.org/pandas-docs/stable/user_guide/indexing.html#returning-a-view-versus-a-copy\n",
            "  This is separate from the ipykernel package so we can avoid doing imports until\n",
            "/usr/local/lib/python3.6/dist-packages/pandas/core/indexing.py:1734: SettingWithCopyWarning: \n",
            "A value is trying to be set on a copy of a slice from a DataFrame.\n",
            "Try using .loc[row_indexer,col_indexer] = value instead\n",
            "\n",
            "See the caveats in the documentation: https://pandas.pydata.org/pandas-docs/stable/user_guide/indexing.html#returning-a-view-versus-a-copy\n",
            "  isetter(loc, value[:, i].tolist())\n"
          ],
          "name": "stderr"
        }
      ]
    },
    {
      "cell_type": "code",
      "metadata": {
        "id": "26p4kLYZ1Do5"
      },
      "source": [
        "df_train, df_test = train_test_split(df, test_size=0.1, shuffle=False)"
      ],
      "execution_count": 472,
      "outputs": []
    },
    {
      "cell_type": "code",
      "metadata": {
        "id": "eOMuXbNg3O4Y"
      },
      "source": [
        "df_train, df_val = train_test_split(df_train, test_size=0.2, shuffle=False)"
      ],
      "execution_count": 473,
      "outputs": []
    },
    {
      "cell_type": "code",
      "metadata": {
        "id": "dgNwBVI4PiXY"
      },
      "source": [
        "energy_train = df_train['AEP_MW'].values.reshape((len(energy_train)), 1)\r\n",
        "energy_val = df_val['AEP_MW'].values.reshape((len(energy_val)), 1)\r\n",
        "energy_test = df_test['AEP_MW'].values.reshape((len(energy_test)), 1)"
      ],
      "execution_count": 486,
      "outputs": []
    },
    {
      "cell_type": "code",
      "metadata": {
        "id": "BrLfOMHC37ty"
      },
      "source": [
        "train_sets = TimeseriesGenerator(energy_train, energy_train, length=2, batch_size=1)\r\n",
        "val_sets = TimeseriesGenerator(energy_val, energy_val, length=2, batch_size=1)\r\n",
        "test_sets = TimeseriesGenerator(energy_test, energy_test, length=2, batch_size=1)"
      ],
      "execution_count": 487,
      "outputs": []
    },
    {
      "cell_type": "code",
      "metadata": {
        "colab": {
          "base_uri": "https://localhost:8080/"
        },
        "id": "dvsxoRn34Tpa",
        "outputId": "be78a7ce-4c1b-4934-84b2-019f4c2f9a93"
      },
      "source": [
        "for i in range(1):\r\n",
        "\tx, y = test_sets[i]\r\n",
        "\tprint('%s => %s' % (x, y))"
      ],
      "execution_count": 489,
      "outputs": [
        {
          "output_type": "stream",
          "text": [
            "[[[16202.]\n",
            "  [16062.]]] => [[15836.]]\n"
          ],
          "name": "stdout"
        }
      ]
    },
    {
      "cell_type": "code",
      "metadata": {
        "colab": {
          "base_uri": "https://localhost:8080/"
        },
        "id": "dop4BwBS5d_e",
        "outputId": "ee43b949-9190-443f-c6ee-e6a6cb7472b6"
      },
      "source": [
        "tf.keras.backend.clear_session()\r\n",
        "model = tf.keras.models.Sequential([\r\n",
        "  tf.keras.layers.LSTM(128, input_shape=(2,1)),\r\n",
        "  tf.keras.layers.Dense(64, activation=\"relu\"),\r\n",
        "  tf.keras.layers.Dense(32, activation=\"relu\"),\r\n",
        "  tf.keras.layers.Dense(1),\r\n",
        "])\r\n",
        "optimizer = tf.keras.optimizers.SGD(lr=1.0000e-04, momentum=0.9)\r\n",
        "model.compile(loss=tf.keras.losses.Huber(),\r\n",
        "              optimizer=optimizer,\r\n",
        "              metrics=[\"mae\"])\r\n",
        "history = model.fit_generator(train_sets, epochs=150, validation_data=val_sets)"
      ],
      "execution_count": 434,
      "outputs": [
        {
          "output_type": "stream",
          "text": [
            "/usr/local/lib/python3.6/dist-packages/tensorflow/python/keras/engine/training.py:1844: UserWarning: `Model.fit_generator` is deprecated and will be removed in a future version. Please use `Model.fit`, which supports generators.\n",
            "  warnings.warn('`Model.fit_generator` is deprecated and '\n"
          ],
          "name": "stderr"
        },
        {
          "output_type": "stream",
          "text": [
            "Epoch 1/150\n",
            "718/718 [==============================] - 4s 3ms/step - loss: 0.0894 - mae: 0.3830 - val_loss: 0.0111 - val_mae: 0.1249\n",
            "Epoch 2/150\n",
            "718/718 [==============================] - 2s 2ms/step - loss: 0.0198 - mae: 0.1589 - val_loss: 0.0167 - val_mae: 0.1537\n",
            "Epoch 3/150\n",
            "718/718 [==============================] - 2s 3ms/step - loss: 0.0124 - mae: 0.1244 - val_loss: 0.0208 - val_mae: 0.1697\n",
            "Epoch 4/150\n",
            "718/718 [==============================] - 2s 2ms/step - loss: 0.0142 - mae: 0.1345 - val_loss: 0.0215 - val_mae: 0.1722\n",
            "Epoch 5/150\n",
            "718/718 [==============================] - 2s 3ms/step - loss: 0.0131 - mae: 0.1306 - val_loss: 0.0215 - val_mae: 0.1723\n",
            "Epoch 6/150\n",
            "718/718 [==============================] - 2s 3ms/step - loss: 0.0130 - mae: 0.1281 - val_loss: 0.0213 - val_mae: 0.1717\n",
            "Epoch 7/150\n",
            "718/718 [==============================] - 2s 3ms/step - loss: 0.0129 - mae: 0.1279 - val_loss: 0.0212 - val_mae: 0.1710\n",
            "Epoch 8/150\n",
            "718/718 [==============================] - 2s 3ms/step - loss: 0.0140 - mae: 0.1321 - val_loss: 0.0212 - val_mae: 0.1710\n",
            "Epoch 9/150\n",
            "718/718 [==============================] - 2s 3ms/step - loss: 0.0125 - mae: 0.1245 - val_loss: 0.0210 - val_mae: 0.1705\n",
            "Epoch 10/150\n",
            "718/718 [==============================] - 2s 3ms/step - loss: 0.0131 - mae: 0.1285 - val_loss: 0.0214 - val_mae: 0.1720\n",
            "Epoch 11/150\n",
            "718/718 [==============================] - 2s 2ms/step - loss: 0.0120 - mae: 0.1208 - val_loss: 0.0212 - val_mae: 0.1712\n",
            "Epoch 12/150\n",
            "718/718 [==============================] - 2s 3ms/step - loss: 0.0131 - mae: 0.1314 - val_loss: 0.0211 - val_mae: 0.1708\n",
            "Epoch 13/150\n",
            "718/718 [==============================] - 2s 3ms/step - loss: 0.0126 - mae: 0.1261 - val_loss: 0.0210 - val_mae: 0.1705\n",
            "Epoch 14/150\n",
            "718/718 [==============================] - 2s 3ms/step - loss: 0.0123 - mae: 0.1247 - val_loss: 0.0216 - val_mae: 0.1728\n",
            "Epoch 15/150\n",
            "718/718 [==============================] - 2s 3ms/step - loss: 0.0138 - mae: 0.1323 - val_loss: 0.0211 - val_mae: 0.1705\n",
            "Epoch 16/150\n",
            "718/718 [==============================] - 2s 3ms/step - loss: 0.0117 - mae: 0.1213 - val_loss: 0.0206 - val_mae: 0.1688\n",
            "Epoch 17/150\n",
            "718/718 [==============================] - 2s 3ms/step - loss: 0.0122 - mae: 0.1237 - val_loss: 0.0203 - val_mae: 0.1676\n",
            "Epoch 18/150\n",
            "718/718 [==============================] - 2s 3ms/step - loss: 0.0120 - mae: 0.1250 - val_loss: 0.0206 - val_mae: 0.1686\n",
            "Epoch 19/150\n",
            "718/718 [==============================] - 2s 3ms/step - loss: 0.0125 - mae: 0.1249 - val_loss: 0.0197 - val_mae: 0.1648\n",
            "Epoch 20/150\n",
            "718/718 [==============================] - 2s 3ms/step - loss: 0.0121 - mae: 0.1233 - val_loss: 0.0199 - val_mae: 0.1656\n",
            "Epoch 21/150\n",
            "718/718 [==============================] - 2s 2ms/step - loss: 0.0117 - mae: 0.1226 - val_loss: 0.0196 - val_mae: 0.1645\n",
            "Epoch 22/150\n",
            "718/718 [==============================] - 2s 3ms/step - loss: 0.0122 - mae: 0.1231 - val_loss: 0.0198 - val_mae: 0.1653\n",
            "Epoch 23/150\n",
            "718/718 [==============================] - 2s 2ms/step - loss: 0.0115 - mae: 0.1216 - val_loss: 0.0198 - val_mae: 0.1653\n",
            "Epoch 24/150\n",
            "718/718 [==============================] - 2s 3ms/step - loss: 0.0120 - mae: 0.1211 - val_loss: 0.0195 - val_mae: 0.1639\n",
            "Epoch 25/150\n",
            "718/718 [==============================] - 2s 3ms/step - loss: 0.0123 - mae: 0.1244 - val_loss: 0.0196 - val_mae: 0.1644\n",
            "Epoch 26/150\n",
            "718/718 [==============================] - 2s 3ms/step - loss: 0.0116 - mae: 0.1224 - val_loss: 0.0193 - val_mae: 0.1633\n",
            "Epoch 27/150\n",
            "718/718 [==============================] - 2s 2ms/step - loss: 0.0126 - mae: 0.1277 - val_loss: 0.0190 - val_mae: 0.1617\n",
            "Epoch 28/150\n",
            "718/718 [==============================] - 2s 2ms/step - loss: 0.0119 - mae: 0.1222 - val_loss: 0.0193 - val_mae: 0.1632\n",
            "Epoch 29/150\n",
            "718/718 [==============================] - 2s 2ms/step - loss: 0.0120 - mae: 0.1236 - val_loss: 0.0193 - val_mae: 0.1631\n",
            "Epoch 30/150\n",
            "718/718 [==============================] - 2s 2ms/step - loss: 0.0112 - mae: 0.1222 - val_loss: 0.0193 - val_mae: 0.1631\n",
            "Epoch 31/150\n",
            "718/718 [==============================] - 2s 3ms/step - loss: 0.0107 - mae: 0.1162 - val_loss: 0.0185 - val_mae: 0.1598\n",
            "Epoch 32/150\n",
            "718/718 [==============================] - 2s 3ms/step - loss: 0.0111 - mae: 0.1197 - val_loss: 0.0188 - val_mae: 0.1610\n",
            "Epoch 33/150\n",
            "718/718 [==============================] - 2s 3ms/step - loss: 0.0122 - mae: 0.1258 - val_loss: 0.0182 - val_mae: 0.1584\n",
            "Epoch 34/150\n",
            "718/718 [==============================] - 2s 3ms/step - loss: 0.0102 - mae: 0.1132 - val_loss: 0.0186 - val_mae: 0.1599\n",
            "Epoch 35/150\n",
            "718/718 [==============================] - 2s 3ms/step - loss: 0.0107 - mae: 0.1155 - val_loss: 0.0182 - val_mae: 0.1584\n",
            "Epoch 36/150\n",
            "718/718 [==============================] - 2s 3ms/step - loss: 0.0105 - mae: 0.1148 - val_loss: 0.0180 - val_mae: 0.1576\n",
            "Epoch 37/150\n",
            "718/718 [==============================] - 2s 3ms/step - loss: 0.0108 - mae: 0.1176 - val_loss: 0.0180 - val_mae: 0.1574\n",
            "Epoch 38/150\n",
            "718/718 [==============================] - 2s 3ms/step - loss: 0.0109 - mae: 0.1163 - val_loss: 0.0174 - val_mae: 0.1547\n",
            "Epoch 39/150\n",
            "718/718 [==============================] - 2s 3ms/step - loss: 0.0113 - mae: 0.1208 - val_loss: 0.0170 - val_mae: 0.1531\n",
            "Epoch 40/150\n",
            "718/718 [==============================] - 2s 3ms/step - loss: 0.0108 - mae: 0.1172 - val_loss: 0.0169 - val_mae: 0.1524\n",
            "Epoch 41/150\n",
            "718/718 [==============================] - 2s 3ms/step - loss: 0.0103 - mae: 0.1131 - val_loss: 0.0171 - val_mae: 0.1533\n",
            "Epoch 42/150\n",
            "718/718 [==============================] - 2s 2ms/step - loss: 0.0114 - mae: 0.1194 - val_loss: 0.0173 - val_mae: 0.1540\n",
            "Epoch 43/150\n",
            "718/718 [==============================] - 2s 2ms/step - loss: 0.0102 - mae: 0.1133 - val_loss: 0.0169 - val_mae: 0.1522\n",
            "Epoch 44/150\n",
            "718/718 [==============================] - 2s 2ms/step - loss: 0.0111 - mae: 0.1174 - val_loss: 0.0166 - val_mae: 0.1512\n",
            "Epoch 45/150\n",
            "718/718 [==============================] - 2s 3ms/step - loss: 0.0103 - mae: 0.1168 - val_loss: 0.0162 - val_mae: 0.1492\n",
            "Epoch 46/150\n",
            "718/718 [==============================] - 2s 2ms/step - loss: 0.0095 - mae: 0.1105 - val_loss: 0.0161 - val_mae: 0.1485\n",
            "Epoch 47/150\n",
            "718/718 [==============================] - 2s 2ms/step - loss: 0.0099 - mae: 0.1126 - val_loss: 0.0156 - val_mae: 0.1466\n",
            "Epoch 48/150\n",
            "718/718 [==============================] - 2s 2ms/step - loss: 0.0093 - mae: 0.1074 - val_loss: 0.0158 - val_mae: 0.1471\n",
            "Epoch 49/150\n",
            "718/718 [==============================] - 2s 3ms/step - loss: 0.0099 - mae: 0.1129 - val_loss: 0.0155 - val_mae: 0.1459\n",
            "Epoch 50/150\n",
            "718/718 [==============================] - 2s 3ms/step - loss: 0.0100 - mae: 0.1130 - val_loss: 0.0152 - val_mae: 0.1442\n",
            "Epoch 51/150\n",
            "718/718 [==============================] - 2s 3ms/step - loss: 0.0094 - mae: 0.1086 - val_loss: 0.0149 - val_mae: 0.1427\n",
            "Epoch 52/150\n",
            "718/718 [==============================] - 2s 3ms/step - loss: 0.0100 - mae: 0.1133 - val_loss: 0.0148 - val_mae: 0.1422\n",
            "Epoch 53/150\n",
            "718/718 [==============================] - 2s 3ms/step - loss: 0.0098 - mae: 0.1121 - val_loss: 0.0147 - val_mae: 0.1419\n",
            "Epoch 54/150\n",
            "718/718 [==============================] - 2s 3ms/step - loss: 0.0095 - mae: 0.1102 - val_loss: 0.0138 - val_mae: 0.1373\n",
            "Epoch 55/150\n",
            "718/718 [==============================] - 2s 3ms/step - loss: 0.0086 - mae: 0.1025 - val_loss: 0.0147 - val_mae: 0.1419\n",
            "Epoch 56/150\n",
            "718/718 [==============================] - 2s 3ms/step - loss: 0.0091 - mae: 0.1079 - val_loss: 0.0136 - val_mae: 0.1362\n",
            "Epoch 57/150\n",
            "718/718 [==============================] - 2s 3ms/step - loss: 0.0083 - mae: 0.1031 - val_loss: 0.0133 - val_mae: 0.1349\n",
            "Epoch 58/150\n",
            "718/718 [==============================] - 2s 2ms/step - loss: 0.0090 - mae: 0.1074 - val_loss: 0.0136 - val_mae: 0.1360\n",
            "Epoch 59/150\n",
            "718/718 [==============================] - 2s 3ms/step - loss: 0.0077 - mae: 0.0974 - val_loss: 0.0139 - val_mae: 0.1376\n",
            "Epoch 60/150\n",
            "718/718 [==============================] - 2s 3ms/step - loss: 0.0084 - mae: 0.1022 - val_loss: 0.0128 - val_mae: 0.1317\n",
            "Epoch 61/150\n",
            "718/718 [==============================] - 2s 3ms/step - loss: 0.0083 - mae: 0.1006 - val_loss: 0.0124 - val_mae: 0.1299\n",
            "Epoch 62/150\n",
            "718/718 [==============================] - 2s 3ms/step - loss: 0.0086 - mae: 0.1051 - val_loss: 0.0128 - val_mae: 0.1319\n",
            "Epoch 63/150\n",
            "718/718 [==============================] - 2s 3ms/step - loss: 0.0084 - mae: 0.1018 - val_loss: 0.0122 - val_mae: 0.1286\n",
            "Epoch 64/150\n",
            "718/718 [==============================] - 2s 3ms/step - loss: 0.0074 - mae: 0.0969 - val_loss: 0.0118 - val_mae: 0.1266\n",
            "Epoch 65/150\n",
            "718/718 [==============================] - 2s 3ms/step - loss: 0.0075 - mae: 0.0974 - val_loss: 0.0117 - val_mae: 0.1261\n",
            "Epoch 66/150\n",
            "718/718 [==============================] - 2s 3ms/step - loss: 0.0077 - mae: 0.0989 - val_loss: 0.0115 - val_mae: 0.1246\n",
            "Epoch 67/150\n",
            "718/718 [==============================] - 2s 3ms/step - loss: 0.0070 - mae: 0.0942 - val_loss: 0.0110 - val_mae: 0.1221\n",
            "Epoch 68/150\n",
            "718/718 [==============================] - 2s 3ms/step - loss: 0.0068 - mae: 0.0920 - val_loss: 0.0115 - val_mae: 0.1246\n",
            "Epoch 69/150\n",
            "718/718 [==============================] - 2s 3ms/step - loss: 0.0074 - mae: 0.0946 - val_loss: 0.0105 - val_mae: 0.1192\n",
            "Epoch 70/150\n",
            "718/718 [==============================] - 2s 3ms/step - loss: 0.0076 - mae: 0.0972 - val_loss: 0.0105 - val_mae: 0.1191\n",
            "Epoch 71/150\n",
            "718/718 [==============================] - 2s 3ms/step - loss: 0.0070 - mae: 0.0955 - val_loss: 0.0105 - val_mae: 0.1190\n",
            "Epoch 72/150\n",
            "718/718 [==============================] - 2s 3ms/step - loss: 0.0064 - mae: 0.0897 - val_loss: 0.0100 - val_mae: 0.1160\n",
            "Epoch 73/150\n",
            "718/718 [==============================] - 2s 3ms/step - loss: 0.0067 - mae: 0.0911 - val_loss: 0.0096 - val_mae: 0.1135\n",
            "Epoch 74/150\n",
            "718/718 [==============================] - 2s 3ms/step - loss: 0.0066 - mae: 0.0924 - val_loss: 0.0100 - val_mae: 0.1161\n",
            "Epoch 75/150\n",
            "718/718 [==============================] - 2s 3ms/step - loss: 0.0060 - mae: 0.0867 - val_loss: 0.0096 - val_mae: 0.1137\n",
            "Epoch 76/150\n",
            "718/718 [==============================] - 2s 3ms/step - loss: 0.0061 - mae: 0.0866 - val_loss: 0.0090 - val_mae: 0.1097\n",
            "Epoch 77/150\n",
            "718/718 [==============================] - 2s 3ms/step - loss: 0.0061 - mae: 0.0877 - val_loss: 0.0090 - val_mae: 0.1100\n",
            "Epoch 78/150\n",
            "718/718 [==============================] - 2s 3ms/step - loss: 0.0058 - mae: 0.0840 - val_loss: 0.0080 - val_mae: 0.1035\n",
            "Epoch 79/150\n",
            "718/718 [==============================] - 2s 3ms/step - loss: 0.0055 - mae: 0.0830 - val_loss: 0.0084 - val_mae: 0.1060\n",
            "Epoch 80/150\n",
            "718/718 [==============================] - 2s 3ms/step - loss: 0.0053 - mae: 0.0804 - val_loss: 0.0084 - val_mae: 0.1060\n",
            "Epoch 81/150\n",
            "718/718 [==============================] - 2s 3ms/step - loss: 0.0053 - mae: 0.0820 - val_loss: 0.0081 - val_mae: 0.1037\n",
            "Epoch 82/150\n",
            "718/718 [==============================] - 2s 3ms/step - loss: 0.0056 - mae: 0.0822 - val_loss: 0.0081 - val_mae: 0.1037\n",
            "Epoch 83/150\n",
            "718/718 [==============================] - 2s 3ms/step - loss: 0.0055 - mae: 0.0832 - val_loss: 0.0075 - val_mae: 0.1000\n",
            "Epoch 84/150\n",
            "718/718 [==============================] - 2s 3ms/step - loss: 0.0050 - mae: 0.0799 - val_loss: 0.0070 - val_mae: 0.0958\n",
            "Epoch 85/150\n",
            "718/718 [==============================] - 2s 3ms/step - loss: 0.0054 - mae: 0.0818 - val_loss: 0.0070 - val_mae: 0.0964\n",
            "Epoch 86/150\n",
            "718/718 [==============================] - 2s 3ms/step - loss: 0.0051 - mae: 0.0799 - val_loss: 0.0069 - val_mae: 0.0957\n",
            "Epoch 87/150\n",
            "718/718 [==============================] - 2s 3ms/step - loss: 0.0050 - mae: 0.0777 - val_loss: 0.0070 - val_mae: 0.0960\n",
            "Epoch 88/150\n",
            "718/718 [==============================] - 2s 3ms/step - loss: 0.0042 - mae: 0.0720 - val_loss: 0.0067 - val_mae: 0.0941\n",
            "Epoch 89/150\n",
            "718/718 [==============================] - 2s 3ms/step - loss: 0.0047 - mae: 0.0758 - val_loss: 0.0065 - val_mae: 0.0923\n",
            "Epoch 90/150\n",
            "718/718 [==============================] - 2s 3ms/step - loss: 0.0046 - mae: 0.0748 - val_loss: 0.0061 - val_mae: 0.0891\n",
            "Epoch 91/150\n",
            "718/718 [==============================] - 2s 3ms/step - loss: 0.0044 - mae: 0.0736 - val_loss: 0.0066 - val_mae: 0.0932\n",
            "Epoch 92/150\n",
            "718/718 [==============================] - 2s 3ms/step - loss: 0.0045 - mae: 0.0736 - val_loss: 0.0056 - val_mae: 0.0850\n",
            "Epoch 93/150\n",
            "718/718 [==============================] - 2s 3ms/step - loss: 0.0043 - mae: 0.0730 - val_loss: 0.0056 - val_mae: 0.0853\n",
            "Epoch 94/150\n",
            "718/718 [==============================] - 2s 3ms/step - loss: 0.0043 - mae: 0.0710 - val_loss: 0.0055 - val_mae: 0.0843\n",
            "Epoch 95/150\n",
            "718/718 [==============================] - 2s 3ms/step - loss: 0.0045 - mae: 0.0715 - val_loss: 0.0056 - val_mae: 0.0849\n",
            "Epoch 96/150\n",
            "718/718 [==============================] - 2s 3ms/step - loss: 0.0037 - mae: 0.0665 - val_loss: 0.0051 - val_mae: 0.0805\n",
            "Epoch 97/150\n",
            "718/718 [==============================] - 2s 3ms/step - loss: 0.0039 - mae: 0.0682 - val_loss: 0.0054 - val_mae: 0.0832\n",
            "Epoch 98/150\n",
            "718/718 [==============================] - 2s 3ms/step - loss: 0.0035 - mae: 0.0644 - val_loss: 0.0051 - val_mae: 0.0808\n",
            "Epoch 99/150\n",
            "718/718 [==============================] - 2s 3ms/step - loss: 0.0038 - mae: 0.0674 - val_loss: 0.0047 - val_mae: 0.0769\n",
            "Epoch 100/150\n",
            "718/718 [==============================] - 2s 3ms/step - loss: 0.0038 - mae: 0.0688 - val_loss: 0.0046 - val_mae: 0.0758\n",
            "Epoch 101/150\n",
            "718/718 [==============================] - 2s 3ms/step - loss: 0.0034 - mae: 0.0654 - val_loss: 0.0049 - val_mae: 0.0790\n",
            "Epoch 102/150\n",
            "718/718 [==============================] - 2s 3ms/step - loss: 0.0038 - mae: 0.0668 - val_loss: 0.0048 - val_mae: 0.0778\n",
            "Epoch 103/150\n",
            "718/718 [==============================] - 2s 3ms/step - loss: 0.0034 - mae: 0.0637 - val_loss: 0.0044 - val_mae: 0.0740\n",
            "Epoch 104/150\n",
            "718/718 [==============================] - 2s 3ms/step - loss: 0.0037 - mae: 0.0673 - val_loss: 0.0042 - val_mae: 0.0718\n",
            "Epoch 105/150\n",
            "718/718 [==============================] - 2s 3ms/step - loss: 0.0037 - mae: 0.0657 - val_loss: 0.0041 - val_mae: 0.0711\n",
            "Epoch 106/150\n",
            "718/718 [==============================] - 2s 3ms/step - loss: 0.0031 - mae: 0.0606 - val_loss: 0.0039 - val_mae: 0.0694\n",
            "Epoch 107/150\n",
            "718/718 [==============================] - 2s 3ms/step - loss: 0.0033 - mae: 0.0626 - val_loss: 0.0039 - val_mae: 0.0687\n",
            "Epoch 108/150\n",
            "718/718 [==============================] - 2s 3ms/step - loss: 0.0032 - mae: 0.0610 - val_loss: 0.0036 - val_mae: 0.0666\n",
            "Epoch 109/150\n",
            "718/718 [==============================] - 2s 3ms/step - loss: 0.0035 - mae: 0.0625 - val_loss: 0.0039 - val_mae: 0.0689\n",
            "Epoch 110/150\n",
            "718/718 [==============================] - 2s 3ms/step - loss: 0.0028 - mae: 0.0578 - val_loss: 0.0037 - val_mae: 0.0675\n",
            "Epoch 111/150\n",
            "718/718 [==============================] - 2s 3ms/step - loss: 0.0031 - mae: 0.0606 - val_loss: 0.0036 - val_mae: 0.0658\n",
            "Epoch 112/150\n",
            "718/718 [==============================] - 2s 3ms/step - loss: 0.0028 - mae: 0.0568 - val_loss: 0.0035 - val_mae: 0.0656\n",
            "Epoch 113/150\n",
            "718/718 [==============================] - 2s 3ms/step - loss: 0.0033 - mae: 0.0619 - val_loss: 0.0033 - val_mae: 0.0635\n",
            "Epoch 114/150\n",
            "718/718 [==============================] - 2s 3ms/step - loss: 0.0034 - mae: 0.0636 - val_loss: 0.0035 - val_mae: 0.0650\n",
            "Epoch 115/150\n",
            "718/718 [==============================] - 2s 3ms/step - loss: 0.0027 - mae: 0.0550 - val_loss: 0.0035 - val_mae: 0.0650\n",
            "Epoch 116/150\n",
            "718/718 [==============================] - 2s 3ms/step - loss: 0.0030 - mae: 0.0591 - val_loss: 0.0032 - val_mae: 0.0617\n",
            "Epoch 117/150\n",
            "718/718 [==============================] - 2s 3ms/step - loss: 0.0033 - mae: 0.0613 - val_loss: 0.0032 - val_mae: 0.0622\n",
            "Epoch 118/150\n",
            "718/718 [==============================] - 2s 3ms/step - loss: 0.0033 - mae: 0.0610 - val_loss: 0.0033 - val_mae: 0.0633\n",
            "Epoch 119/150\n",
            "718/718 [==============================] - 2s 3ms/step - loss: 0.0028 - mae: 0.0563 - val_loss: 0.0031 - val_mae: 0.0615\n",
            "Epoch 120/150\n",
            "718/718 [==============================] - 2s 3ms/step - loss: 0.0034 - mae: 0.0597 - val_loss: 0.0032 - val_mae: 0.0626\n",
            "Epoch 121/150\n",
            "718/718 [==============================] - 2s 3ms/step - loss: 0.0027 - mae: 0.0546 - val_loss: 0.0033 - val_mae: 0.0638\n",
            "Epoch 122/150\n",
            "718/718 [==============================] - 2s 3ms/step - loss: 0.0028 - mae: 0.0567 - val_loss: 0.0031 - val_mae: 0.0605\n",
            "Epoch 123/150\n",
            "718/718 [==============================] - 2s 3ms/step - loss: 0.0030 - mae: 0.0579 - val_loss: 0.0031 - val_mae: 0.0610\n",
            "Epoch 124/150\n",
            "718/718 [==============================] - 2s 3ms/step - loss: 0.0029 - mae: 0.0571 - val_loss: 0.0031 - val_mae: 0.0610\n",
            "Epoch 125/150\n",
            "718/718 [==============================] - 2s 3ms/step - loss: 0.0026 - mae: 0.0546 - val_loss: 0.0030 - val_mae: 0.0598\n",
            "Epoch 126/150\n",
            "718/718 [==============================] - 2s 3ms/step - loss: 0.0030 - mae: 0.0566 - val_loss: 0.0030 - val_mae: 0.0600\n",
            "Epoch 127/150\n",
            "718/718 [==============================] - 2s 3ms/step - loss: 0.0026 - mae: 0.0547 - val_loss: 0.0029 - val_mae: 0.0584\n",
            "Epoch 128/150\n",
            "718/718 [==============================] - 2s 3ms/step - loss: 0.0028 - mae: 0.0574 - val_loss: 0.0028 - val_mae: 0.0580\n",
            "Epoch 129/150\n",
            "718/718 [==============================] - 2s 3ms/step - loss: 0.0027 - mae: 0.0561 - val_loss: 0.0028 - val_mae: 0.0576\n",
            "Epoch 130/150\n",
            "718/718 [==============================] - 2s 3ms/step - loss: 0.0028 - mae: 0.0535 - val_loss: 0.0029 - val_mae: 0.0590\n",
            "Epoch 131/150\n",
            "718/718 [==============================] - 2s 3ms/step - loss: 0.0024 - mae: 0.0521 - val_loss: 0.0028 - val_mae: 0.0579\n",
            "Epoch 132/150\n",
            "718/718 [==============================] - 2s 3ms/step - loss: 0.0028 - mae: 0.0565 - val_loss: 0.0027 - val_mae: 0.0564\n",
            "Epoch 133/150\n",
            "718/718 [==============================] - 2s 3ms/step - loss: 0.0028 - mae: 0.0558 - val_loss: 0.0028 - val_mae: 0.0583\n",
            "Epoch 134/150\n",
            "718/718 [==============================] - 2s 3ms/step - loss: 0.0029 - mae: 0.0554 - val_loss: 0.0029 - val_mae: 0.0587\n",
            "Epoch 135/150\n",
            "718/718 [==============================] - 2s 3ms/step - loss: 0.0026 - mae: 0.0531 - val_loss: 0.0028 - val_mae: 0.0577\n",
            "Epoch 136/150\n",
            "718/718 [==============================] - 2s 3ms/step - loss: 0.0032 - mae: 0.0587 - val_loss: 0.0029 - val_mae: 0.0591\n",
            "Epoch 137/150\n",
            "718/718 [==============================] - 2s 3ms/step - loss: 0.0027 - mae: 0.0542 - val_loss: 0.0027 - val_mae: 0.0566\n",
            "Epoch 138/150\n",
            "718/718 [==============================] - 2s 3ms/step - loss: 0.0030 - mae: 0.0578 - val_loss: 0.0027 - val_mae: 0.0563\n",
            "Epoch 139/150\n",
            "718/718 [==============================] - 2s 3ms/step - loss: 0.0028 - mae: 0.0555 - val_loss: 0.0027 - val_mae: 0.0562\n",
            "Epoch 140/150\n",
            "718/718 [==============================] - 2s 3ms/step - loss: 0.0028 - mae: 0.0540 - val_loss: 0.0026 - val_mae: 0.0559\n",
            "Epoch 141/150\n",
            "718/718 [==============================] - 2s 3ms/step - loss: 0.0030 - mae: 0.0577 - val_loss: 0.0027 - val_mae: 0.0567\n",
            "Epoch 142/150\n",
            "718/718 [==============================] - 2s 3ms/step - loss: 0.0029 - mae: 0.0552 - val_loss: 0.0027 - val_mae: 0.0566\n",
            "Epoch 143/150\n",
            "718/718 [==============================] - 2s 3ms/step - loss: 0.0029 - mae: 0.0550 - val_loss: 0.0026 - val_mae: 0.0558\n",
            "Epoch 144/150\n",
            "718/718 [==============================] - 2s 3ms/step - loss: 0.0027 - mae: 0.0543 - val_loss: 0.0026 - val_mae: 0.0559\n",
            "Epoch 145/150\n",
            "718/718 [==============================] - 2s 3ms/step - loss: 0.0032 - mae: 0.0586 - val_loss: 0.0026 - val_mae: 0.0560\n",
            "Epoch 146/150\n",
            "718/718 [==============================] - 2s 3ms/step - loss: 0.0029 - mae: 0.0542 - val_loss: 0.0027 - val_mae: 0.0561\n",
            "Epoch 147/150\n",
            "718/718 [==============================] - 2s 3ms/step - loss: 0.0025 - mae: 0.0547 - val_loss: 0.0025 - val_mae: 0.0542\n",
            "Epoch 148/150\n",
            "718/718 [==============================] - 2s 3ms/step - loss: 0.0026 - mae: 0.0531 - val_loss: 0.0026 - val_mae: 0.0558\n",
            "Epoch 149/150\n",
            "718/718 [==============================] - 2s 3ms/step - loss: 0.0031 - mae: 0.0585 - val_loss: 0.0026 - val_mae: 0.0554\n",
            "Epoch 150/150\n",
            "718/718 [==============================] - 2s 3ms/step - loss: 0.0028 - mae: 0.0554 - val_loss: 0.0026 - val_mae: 0.0556\n"
          ],
          "name": "stdout"
        }
      ]
    },
    {
      "cell_type": "code",
      "metadata": {
        "colab": {
          "base_uri": "https://localhost:8080/",
          "height": 545
        },
        "id": "zfViRmNh6AiW",
        "outputId": "56d43f09-3969-4a34-a78a-1f11768e4463"
      },
      "source": [
        "mae = history.history['mae']\r\n",
        "val_mae = history.history['val_mae']\r\n",
        "loss = history.history['loss']\r\n",
        "val_loss = history.history['val_loss']\r\n",
        "\r\n",
        "epochs = range(len(mae))\r\n",
        "\r\n",
        "plt.plot(epochs, mae, 'r', label='Training MAE')\r\n",
        "plt.plot(epochs, val_mae, 'b', label='Validation MAE')\r\n",
        "plt.title('Training and validation MAE')\r\n",
        "plt.legend()\r\n",
        "plt.figure()\r\n",
        "\r\n",
        "plt.plot(epochs, loss, 'r', label='Training Loss')\r\n",
        "plt.plot(epochs, val_loss, 'b', label='Validation Loss')\r\n",
        "plt.title('Training and validation loss')\r\n",
        "plt.legend()\r\n",
        "\r\n",
        "plt.show()"
      ],
      "execution_count": 435,
      "outputs": [
        {
          "output_type": "display_data",
          "data": {
            "image/png": "[encoded data removed]",
            "text/plain": [
              "<Figure size 432x288 with 1 Axes>"
            ]
          },
          "metadata": {
            "tags": [],
            "needs_background": "light"
          }
        },
        {
          "output_type": "display_data",
          "data": {
            "image/png": "[encoded data removed]",
            "text/plain": [
              "<Figure size 432x288 with 1 Axes>"
            ]
          },
          "metadata": {
            "tags": [],
            "needs_background": "light"
          }
        }
      ]
    },
    {
      "cell_type": "code",
      "metadata": {
        "colab": {
          "base_uri": "https://localhost:8080/"
        },
        "id": "D46THA3X6odu",
        "outputId": "a38328ed-95d3-47e3-b5a0-a390c04af552"
      },
      "source": [
        "test_data = test_sets.data.copy()\r\n",
        "for i in range(len(test_data)-3):\r\n",
        "  topred = test_data[i+1:i+3,0]\r\n",
        "  topred = topred.reshape(1, 2, 1)\r\n",
        "  prediction = model.predict_generator(topred)\r\n",
        "  test_data[2+i] = prediction"
      ],
      "execution_count": 493,
      "outputs": [
        {
          "output_type": "stream",
          "text": [
            "/usr/local/lib/python3.6/dist-packages/tensorflow/python/keras/engine/training.py:1905: UserWarning: `Model.predict_generator` is deprecated and will be removed in a future version. Please use `Model.predict`, which supports generators.\n",
            "  warnings.warn('`Model.predict_generator` is deprecated and '\n"
          ],
          "name": "stderr"
        }
      ]
    },
    {
      "cell_type": "code",
      "metadata": {
        "colab": {
          "base_uri": "https://localhost:8080/"
        },
        "id": "f41KSk86Rkhq",
        "outputId": "75c8d624-cbb5-4b02-b871-f0d9f4657024"
      },
      "source": [
        "df_test['Pred'] = test_data"
      ],
      "execution_count": 478,
      "outputs": [
        {
          "output_type": "stream",
          "text": [
            "/usr/local/lib/python3.6/dist-packages/ipykernel_launcher.py:1: SettingWithCopyWarning: \n",
            "A value is trying to be set on a copy of a slice from a DataFrame.\n",
            "Try using .loc[row_indexer,col_indexer] = value instead\n",
            "\n",
            "See the caveats in the documentation: https://pandas.pydata.org/pandas-docs/stable/user_guide/indexing.html#returning-a-view-versus-a-copy\n",
            "  \"\"\"Entry point for launching an IPython kernel.\n"
          ],
          "name": "stderr"
        }
      ]
    },
    {
      "cell_type": "code",
      "metadata": {
        "id": "nladAnU_WWYP"
      },
      "source": [
        "rescale1 = minmaxscaler.inverse_transform(df_test[[\"AEP_MW\"]])\r\n",
        "rescale2 = minmaxscaler.inverse_transform(df_test[[\"Pred\"]])"
      ],
      "execution_count": 479,
      "outputs": []
    },
    {
      "cell_type": "code",
      "metadata": {
        "colab": {
          "base_uri": "https://localhost:8080/"
        },
        "id": "qcEtNXldXKM6",
        "outputId": "d924abb8-97f1-42b8-cbde-df56d4764cbf"
      },
      "source": [
        "df_test[[\"AEP_MW\"]] = rescale1\r\n",
        "df_test[[\"Pred\"]] = rescale2"
      ],
      "execution_count": 480,
      "outputs": [
        {
          "output_type": "stream",
          "text": [
            "/usr/local/lib/python3.6/dist-packages/ipykernel_launcher.py:1: SettingWithCopyWarning: \n",
            "A value is trying to be set on a copy of a slice from a DataFrame.\n",
            "Try using .loc[row_indexer,col_indexer] = value instead\n",
            "\n",
            "See the caveats in the documentation: https://pandas.pydata.org/pandas-docs/stable/user_guide/indexing.html#returning-a-view-versus-a-copy\n",
            "  \"\"\"Entry point for launching an IPython kernel.\n",
            "/usr/local/lib/python3.6/dist-packages/pandas/core/indexing.py:1734: SettingWithCopyWarning: \n",
            "A value is trying to be set on a copy of a slice from a DataFrame.\n",
            "Try using .loc[row_indexer,col_indexer] = value instead\n",
            "\n",
            "See the caveats in the documentation: https://pandas.pydata.org/pandas-docs/stable/user_guide/indexing.html#returning-a-view-versus-a-copy\n",
            "  isetter(loc, value[:, i].tolist())\n",
            "/usr/local/lib/python3.6/dist-packages/ipykernel_launcher.py:2: SettingWithCopyWarning: \n",
            "A value is trying to be set on a copy of a slice from a DataFrame.\n",
            "Try using .loc[row_indexer,col_indexer] = value instead\n",
            "\n",
            "See the caveats in the documentation: https://pandas.pydata.org/pandas-docs/stable/user_guide/indexing.html#returning-a-view-versus-a-copy\n",
            "  \n"
          ],
          "name": "stderr"
        }
      ]
    },
    {
      "cell_type": "code",
      "metadata": {
        "colab": {
          "base_uri": "https://localhost:8080/",
          "height": 338
        },
        "id": "r9nV_O8wSVIW",
        "outputId": "62ed699a-8799-400d-c666-210f5bd92624"
      },
      "source": [
        "df_test.plot(x='Datetime', y=[\"AEP_MW\",\"Pred\"], figsize=(15,5))\r\n",
        "plt.show()"
      ],
      "execution_count": 483,
      "outputs": [
        {
          "output_type": "display_data",
          "data": {
            "image/png": "[encoded data removed]",
            "text/plain": [
              "<Figure size 1080x360 with 1 Axes>"
            ]
          },
          "metadata": {
            "tags": [],
            "needs_background": "light"
          }
        }
      ]
    }
  ]
}