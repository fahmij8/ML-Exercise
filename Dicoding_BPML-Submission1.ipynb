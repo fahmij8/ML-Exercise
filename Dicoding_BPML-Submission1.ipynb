{
  "nbformat": 4,
  "nbformat_minor": 0,
  "metadata": {
    "colab": {
      "name": "Dicoding - NLP.ipynb",
      "provenance": []
    },
    "kernelspec": {
      "name": "python3",
      "display_name": "Python 3"
    },
    "accelerator": "GPU"
  },
  "cells": [
    {
      "cell_type": "markdown",
      "metadata": {
        "id": "XE78GOmHYtaz",
        "colab_type": "text"
      },
      "source": [
        "# BBC News Category Classification\n",
        "### By Fahmi Jabbar (rootmawar77@gmail.com)\n",
        "---\n",
        "**Disclaimer :** Any code below is done by purposed to complete *Dicoding* Submission and made 100% by myself  \n",
        "\n",
        "This submission is using pre-trained embedding words(GloVe)"
      ]
    },
    {
      "cell_type": "markdown",
      "metadata": {
        "id": "nA_JxBPBY3pk",
        "colab_type": "text"
      },
      "source": [
        "---\n",
        "**Dataset Information** : \n",
        "\n",
        "![Dataset Information](https://image.prntscr.com/image/Sstl7kwXTD2dmfkPyCrwAg.png)\n",
        "\n",
        "Link : https://www.kaggle.com/yufengdev/bbc-fulltext-and-category\n",
        "\n",
        "Consist of 5 Classes and 2225 row data"
      ]
    },
    {
      "cell_type": "markdown",
      "metadata": {
        "id": "TtcsfR3doCtt",
        "colab_type": "text"
      },
      "source": [
        "## Import Important Library"
      ]
    },
    {
      "cell_type": "code",
      "metadata": {
        "id": "Oy6mW4jBYqFo",
        "colab_type": "code",
        "colab": {}
      },
      "source": [
        "import matplotlib.pyplot as plt\n",
        "import os, sys, datetime\n",
        "import pandas as pd\n",
        "import numpy as np\n",
        "import tensorflow as tf\n",
        "\n",
        "from sklearn.model_selection import train_test_split\n",
        "from tensorflow.keras.preprocessing.text import Tokenizer\n",
        "from tensorflow.keras.preprocessing.sequence import pad_sequences"
      ],
      "execution_count": 1,
      "outputs": []
    },
    {
      "cell_type": "markdown",
      "metadata": {
        "id": "7WTR0bLpoFo9",
        "colab_type": "text"
      },
      "source": [
        "## Download Dataset & Unzip"
      ]
    },
    {
      "cell_type": "code",
      "metadata": {
        "id": "haMrHShvZQte",
        "colab_type": "code",
        "colab": {}
      },
      "source": [
        "os.environ['KAGGLE_USERNAME'] = \"fahmijabbar\"\n",
        "os.environ['KAGGLE_KEY'] = \"70e97bf263ab4ed3b437c10c73941268\""
      ],
      "execution_count": 2,
      "outputs": []
    },
    {
      "cell_type": "code",
      "metadata": {
        "id": "iP7mRsLcZYSW",
        "colab_type": "code",
        "colab": {
          "base_uri": "https://localhost:8080/",
          "height": 68
        },
        "outputId": "b03242bc-34ce-4f98-f969-514e3e0e23a8"
      },
      "source": [
        "#Download Dataset\n",
        "!kaggle datasets download -d yufengdev/bbc-fulltext-and-category"
      ],
      "execution_count": 3,
      "outputs": [
        {
          "output_type": "stream",
          "text": [
            "Downloading bbc-fulltext-and-category.zip to /content\n",
            "\r  0% 0.00/1.83M [00:00<?, ?B/s]\n",
            "\r100% 1.83M/1.83M [00:00<00:00, 61.5MB/s]\n"
          ],
          "name": "stdout"
        }
      ]
    },
    {
      "cell_type": "code",
      "metadata": {
        "id": "jI54gtE9Osz4",
        "colab_type": "code",
        "colab": {
          "base_uri": "https://localhost:8080/",
          "height": 357
        },
        "outputId": "67f8eebe-1881-4d02-c1be-4b9f912d4c02"
      },
      "source": [
        "#Download Pre-Trained word Embedding GloVe : https://nlp.stanford.edu/projects/glove/\n",
        "!wget http://nlp.stanford.edu/data/glove.6B.zip"
      ],
      "execution_count": 4,
      "outputs": [
        {
          "output_type": "stream",
          "text": [
            "--2020-08-04 17:55:00--  http://nlp.stanford.edu/data/glove.6B.zip\n",
            "Resolving nlp.stanford.edu (nlp.stanford.edu)... 171.64.67.140\n",
            "Connecting to nlp.stanford.edu (nlp.stanford.edu)|171.64.67.140|:80... connected.\n",
            "HTTP request sent, awaiting response... 302 Found\n",
            "Location: https://nlp.stanford.edu/data/glove.6B.zip [following]\n",
            "--2020-08-04 17:55:00--  https://nlp.stanford.edu/data/glove.6B.zip\n",
            "Connecting to nlp.stanford.edu (nlp.stanford.edu)|171.64.67.140|:443... connected.\n",
            "HTTP request sent, awaiting response... 301 Moved Permanently\n",
            "Location: http://downloads.cs.stanford.edu/nlp/data/glove.6B.zip [following]\n",
            "--2020-08-04 17:55:00--  http://downloads.cs.stanford.edu/nlp/data/glove.6B.zip\n",
            "Resolving downloads.cs.stanford.edu (downloads.cs.stanford.edu)... 171.64.64.22\n",
            "Connecting to downloads.cs.stanford.edu (downloads.cs.stanford.edu)|171.64.64.22|:80... connected.\n",
            "HTTP request sent, awaiting response... 200 OK\n",
            "Length: 862182613 (822M) [application/zip]\n",
            "Saving to: ‘glove.6B.zip’\n",
            "\n",
            "glove.6B.zip        100%[===================>] 822.24M  1.92MB/s    in 6m 27s  \n",
            "\n",
            "2020-08-04 18:01:27 (2.13 MB/s) - ‘glove.6B.zip’ saved [862182613/862182613]\n",
            "\n"
          ],
          "name": "stdout"
        }
      ]
    },
    {
      "cell_type": "code",
      "metadata": {
        "id": "C0bLt90OZeJ7",
        "colab_type": "code",
        "colab": {
          "base_uri": "https://localhost:8080/",
          "height": 51
        },
        "outputId": "cb1e19d3-470b-4676-9688-7a49ad6f73cd"
      },
      "source": [
        "!unzip /content/bbc-fulltext-and-category.zip"
      ],
      "execution_count": 5,
      "outputs": [
        {
          "output_type": "stream",
          "text": [
            "Archive:  /content/bbc-fulltext-and-category.zip\n",
            "  inflating: bbc-text.csv            \n"
          ],
          "name": "stdout"
        }
      ]
    },
    {
      "cell_type": "code",
      "metadata": {
        "id": "FgJnc2M7P2Ig",
        "colab_type": "code",
        "colab": {
          "base_uri": "https://localhost:8080/",
          "height": 102
        },
        "outputId": "2621459a-7405-4049-df9c-43fafe7f6975"
      },
      "source": [
        "!unzip /content/glove.6B.zip"
      ],
      "execution_count": 6,
      "outputs": [
        {
          "output_type": "stream",
          "text": [
            "Archive:  /content/glove.6B.zip\n",
            "  inflating: glove.6B.50d.txt        \n",
            "  inflating: glove.6B.100d.txt       \n",
            "  inflating: glove.6B.200d.txt       \n",
            "  inflating: glove.6B.300d.txt       \n"
          ],
          "name": "stdout"
        }
      ]
    },
    {
      "cell_type": "markdown",
      "metadata": {
        "id": "H2izDiAzoJ0a",
        "colab_type": "text"
      },
      "source": [
        "## Load to dataframe pandas"
      ]
    },
    {
      "cell_type": "code",
      "metadata": {
        "id": "JY-5nf3PhJ2E",
        "colab_type": "code",
        "colab": {}
      },
      "source": [
        "df_awal = pd.read_csv('/content/bbc-text.csv')"
      ],
      "execution_count": 7,
      "outputs": []
    },
    {
      "cell_type": "code",
      "metadata": {
        "id": "rd3zI-pXhaXQ",
        "colab_type": "code",
        "colab": {
          "base_uri": "https://localhost:8080/",
          "height": 204
        },
        "outputId": "07a45a30-d2bb-420e-e11b-5b381164001e"
      },
      "source": [
        "df_awal.head()"
      ],
      "execution_count": 8,
      "outputs": [
        {
          "output_type": "execute_result",
          "data": {
            "text/html": [
              "<div>\n",
              "<style scoped>\n",
              "    .dataframe tbody tr th:only-of-type {\n",
              "        vertical-align: middle;\n",
              "    }\n",
              "\n",
              "    .dataframe tbody tr th {\n",
              "        vertical-align: top;\n",
              "    }\n",
              "\n",
              "    .dataframe thead th {\n",
              "        text-align: right;\n",
              "    }\n",
              "</style>\n",
              "<table border=\"1\" class=\"dataframe\">\n",
              "  <thead>\n",
              "    <tr style=\"text-align: right;\">\n",
              "      <th></th>\n",
              "      <th>category</th>\n",
              "      <th>text</th>\n",
              "    </tr>\n",
              "  </thead>\n",
              "  <tbody>\n",
              "    <tr>\n",
              "      <th>0</th>\n",
              "      <td>tech</td>\n",
              "      <td>tv future in the hands of viewers with home th...</td>\n",
              "    </tr>\n",
              "    <tr>\n",
              "      <th>1</th>\n",
              "      <td>business</td>\n",
              "      <td>worldcom boss  left books alone  former worldc...</td>\n",
              "    </tr>\n",
              "    <tr>\n",
              "      <th>2</th>\n",
              "      <td>sport</td>\n",
              "      <td>tigers wary of farrell  gamble  leicester say ...</td>\n",
              "    </tr>\n",
              "    <tr>\n",
              "      <th>3</th>\n",
              "      <td>sport</td>\n",
              "      <td>yeading face newcastle in fa cup premiership s...</td>\n",
              "    </tr>\n",
              "    <tr>\n",
              "      <th>4</th>\n",
              "      <td>entertainment</td>\n",
              "      <td>ocean s twelve raids box office ocean s twelve...</td>\n",
              "    </tr>\n",
              "  </tbody>\n",
              "</table>\n",
              "</div>"
            ],
            "text/plain": [
              "        category                                               text\n",
              "0           tech  tv future in the hands of viewers with home th...\n",
              "1       business  worldcom boss  left books alone  former worldc...\n",
              "2          sport  tigers wary of farrell  gamble  leicester say ...\n",
              "3          sport  yeading face newcastle in fa cup premiership s...\n",
              "4  entertainment  ocean s twelve raids box office ocean s twelve..."
            ]
          },
          "metadata": {
            "tags": []
          },
          "execution_count": 8
        }
      ]
    },
    {
      "cell_type": "markdown",
      "metadata": {
        "id": "otVQ3Tzlo96L",
        "colab_type": "text"
      },
      "source": [
        "## EDA"
      ]
    },
    {
      "cell_type": "code",
      "metadata": {
        "id": "gS3vmPgukWIj",
        "colab_type": "code",
        "colab": {}
      },
      "source": [
        "#Convert to one hot encoding dataframe\n",
        "news = df_awal['text']\n",
        "category = pd.get_dummies(df_awal.category)"
      ],
      "execution_count": 9,
      "outputs": []
    },
    {
      "cell_type": "code",
      "metadata": {
        "id": "O6vU7t8GmNjC",
        "colab_type": "code",
        "colab": {}
      },
      "source": [
        "#Concat dataframe\n",
        "df = pd.concat([news, category], axis=1)"
      ],
      "execution_count": 10,
      "outputs": []
    },
    {
      "cell_type": "code",
      "metadata": {
        "id": "aPPzaOFhnGGP",
        "colab_type": "code",
        "colab": {
          "base_uri": "https://localhost:8080/",
          "height": 204
        },
        "outputId": "e4f1826f-8f87-4ef4-c2f2-0a6d53650fcf"
      },
      "source": [
        "df.head()"
      ],
      "execution_count": 11,
      "outputs": [
        {
          "output_type": "execute_result",
          "data": {
            "text/html": [
              "<div>\n",
              "<style scoped>\n",
              "    .dataframe tbody tr th:only-of-type {\n",
              "        vertical-align: middle;\n",
              "    }\n",
              "\n",
              "    .dataframe tbody tr th {\n",
              "        vertical-align: top;\n",
              "    }\n",
              "\n",
              "    .dataframe thead th {\n",
              "        text-align: right;\n",
              "    }\n",
              "</style>\n",
              "<table border=\"1\" class=\"dataframe\">\n",
              "  <thead>\n",
              "    <tr style=\"text-align: right;\">\n",
              "      <th></th>\n",
              "      <th>text</th>\n",
              "      <th>business</th>\n",
              "      <th>entertainment</th>\n",
              "      <th>politics</th>\n",
              "      <th>sport</th>\n",
              "      <th>tech</th>\n",
              "    </tr>\n",
              "  </thead>\n",
              "  <tbody>\n",
              "    <tr>\n",
              "      <th>0</th>\n",
              "      <td>tv future in the hands of viewers with home th...</td>\n",
              "      <td>0</td>\n",
              "      <td>0</td>\n",
              "      <td>0</td>\n",
              "      <td>0</td>\n",
              "      <td>1</td>\n",
              "    </tr>\n",
              "    <tr>\n",
              "      <th>1</th>\n",
              "      <td>worldcom boss  left books alone  former worldc...</td>\n",
              "      <td>1</td>\n",
              "      <td>0</td>\n",
              "      <td>0</td>\n",
              "      <td>0</td>\n",
              "      <td>0</td>\n",
              "    </tr>\n",
              "    <tr>\n",
              "      <th>2</th>\n",
              "      <td>tigers wary of farrell  gamble  leicester say ...</td>\n",
              "      <td>0</td>\n",
              "      <td>0</td>\n",
              "      <td>0</td>\n",
              "      <td>1</td>\n",
              "      <td>0</td>\n",
              "    </tr>\n",
              "    <tr>\n",
              "      <th>3</th>\n",
              "      <td>yeading face newcastle in fa cup premiership s...</td>\n",
              "      <td>0</td>\n",
              "      <td>0</td>\n",
              "      <td>0</td>\n",
              "      <td>1</td>\n",
              "      <td>0</td>\n",
              "    </tr>\n",
              "    <tr>\n",
              "      <th>4</th>\n",
              "      <td>ocean s twelve raids box office ocean s twelve...</td>\n",
              "      <td>0</td>\n",
              "      <td>1</td>\n",
              "      <td>0</td>\n",
              "      <td>0</td>\n",
              "      <td>0</td>\n",
              "    </tr>\n",
              "  </tbody>\n",
              "</table>\n",
              "</div>"
            ],
            "text/plain": [
              "                                                text  business  ...  sport  tech\n",
              "0  tv future in the hands of viewers with home th...         0  ...      0     1\n",
              "1  worldcom boss  left books alone  former worldc...         1  ...      0     0\n",
              "2  tigers wary of farrell  gamble  leicester say ...         0  ...      1     0\n",
              "3  yeading face newcastle in fa cup premiership s...         0  ...      1     0\n",
              "4  ocean s twelve raids box office ocean s twelve...         0  ...      0     0\n",
              "\n",
              "[5 rows x 6 columns]"
            ]
          },
          "metadata": {
            "tags": []
          },
          "execution_count": 11
        }
      ]
    },
    {
      "cell_type": "code",
      "metadata": {
        "id": "L4zFxBV-2MlN",
        "colab_type": "code",
        "colab": {
          "base_uri": "https://localhost:8080/",
          "height": 238
        },
        "outputId": "d35ac8ea-5fd0-469d-e64e-923f09fd2b0a"
      },
      "source": [
        "df.info()"
      ],
      "execution_count": 12,
      "outputs": [
        {
          "output_type": "stream",
          "text": [
            "<class 'pandas.core.frame.DataFrame'>\n",
            "RangeIndex: 2225 entries, 0 to 2224\n",
            "Data columns (total 6 columns):\n",
            " #   Column         Non-Null Count  Dtype \n",
            "---  ------         --------------  ----- \n",
            " 0   text           2225 non-null   object\n",
            " 1   business       2225 non-null   uint8 \n",
            " 2   entertainment  2225 non-null   uint8 \n",
            " 3   politics       2225 non-null   uint8 \n",
            " 4   sport          2225 non-null   uint8 \n",
            " 5   tech           2225 non-null   uint8 \n",
            "dtypes: object(1), uint8(5)\n",
            "memory usage: 28.4+ KB\n"
          ],
          "name": "stdout"
        }
      ]
    },
    {
      "cell_type": "code",
      "metadata": {
        "id": "x-O1y4fanLSg",
        "colab_type": "code",
        "colab": {}
      },
      "source": [
        "columns = []\n",
        "counts = []\n",
        "\n",
        "for name in df.columns:\n",
        "  if name == \"text\":\n",
        "    pass\n",
        "  else :\n",
        "    count = df[name].value_counts() #Count every unique value in column\n",
        "    counts.append(count[1]) #Take the total of unique value = 1 in column\n",
        "    columns.append(name) #For later usage"
      ],
      "execution_count": 13,
      "outputs": []
    },
    {
      "cell_type": "code",
      "metadata": {
        "id": "kUCoC497sxYx",
        "colab_type": "code",
        "colab": {
          "base_uri": "https://localhost:8080/",
          "height": 517
        },
        "outputId": "d20b2e65-5bfa-476f-8c18-cce3cf7ef43b"
      },
      "source": [
        "plt.style.use('ggplot')\n",
        "\n",
        "x_pos = [1,3,5,7,9]\n",
        "\n",
        "def autolabel(rects, xpos='center'):\n",
        "    xpos = xpos.lower()\n",
        "    ha = {'center': 'center', 'right': 'left', 'left': 'right'}\n",
        "    offset = {'center': 0.5, 'right': 0.57, 'left': 0.43}\n",
        "    for rect in rects:\n",
        "        height = rect.get_height()\n",
        "        ax.text(rect.get_x() + rect.get_width()*offset[xpos], 1.01*height,\n",
        "                '{}'.format(height), ha=ha[xpos], va='bottom')\n",
        "\n",
        "\n",
        "fig, ax = plt.subplots(figsize=(15,8))\n",
        "rects1 = ax.bar(x_pos, counts, color='green')\n",
        "plt.xlabel(\"Category\")\n",
        "plt.ylabel(\"Total\")\n",
        "plt.title(\"News Category Plot\")\n",
        "autolabel(rects1)\n",
        "\n",
        "plt.xticks(x_pos, columns, fontsize=10)\n",
        "\n",
        "plt.show()"
      ],
      "execution_count": 14,
      "outputs": [
        {
          "output_type": "display_data",
          "data": {
            "image/png": "[encoded data removed]",
            "text/plain": [
              "<Figure size 1080x576 with 1 Axes>"
            ]
          },
          "metadata": {
            "tags": []
          }
        }
      ]
    },
    {
      "cell_type": "markdown",
      "metadata": {
        "id": "XKoXQahW2G07",
        "colab_type": "text"
      },
      "source": [
        "## Data Preparation"
      ]
    },
    {
      "cell_type": "markdown",
      "metadata": {
        "id": "em-CmoTP7CYJ",
        "colab_type": "text"
      },
      "source": [
        "## Split Data"
      ]
    },
    {
      "cell_type": "code",
      "metadata": {
        "id": "lQs4652FZMhF",
        "colab_type": "code",
        "colab": {}
      },
      "source": [
        "articles = df['text'].values\n",
        "category = df[columns].values"
      ],
      "execution_count": 15,
      "outputs": []
    },
    {
      "cell_type": "code",
      "metadata": {
        "id": "QhoxEJX66vJb",
        "colab_type": "code",
        "colab": {}
      },
      "source": [
        "X_train, X_test, Y_train, Y_test = train_test_split(articles, category, test_size=0.2)"
      ],
      "execution_count": 16,
      "outputs": []
    },
    {
      "cell_type": "code",
      "metadata": {
        "id": "6QKQpKbT64eq",
        "colab_type": "code",
        "colab": {
          "base_uri": "https://localhost:8080/",
          "height": 85
        },
        "outputId": "2a3c815a-7658-4652-a40a-8ef03c5a8a21"
      },
      "source": [
        "print(len(X_train))\n",
        "print(len(Y_train))\n",
        "print(len(X_test))\n",
        "print(len(Y_test))"
      ],
      "execution_count": 17,
      "outputs": [
        {
          "output_type": "stream",
          "text": [
            "1780\n",
            "1780\n",
            "445\n",
            "445\n"
          ],
          "name": "stdout"
        }
      ]
    },
    {
      "cell_type": "markdown",
      "metadata": {
        "id": "hsjuK9nJ_A5z",
        "colab_type": "text"
      },
      "source": [
        "### Tokenized Word"
      ]
    },
    {
      "cell_type": "code",
      "metadata": {
        "id": "7udex9Yj7E2k",
        "colab_type": "code",
        "colab": {}
      },
      "source": [
        "embedding_dim = 100 #Set embedding dim\n",
        "max_length = 200 #Set maximum word length\n",
        "trunc_type = 'post' #Truncate sentences after senteces 200 reached\n",
        "padding_type = 'post' #Pad 0 after the sentences\n",
        "oov_tok = '<oov>' #Out of vocabulary replacement"
      ],
      "execution_count": 18,
      "outputs": []
    },
    {
      "cell_type": "code",
      "metadata": {
        "id": "hg8DYb2P7gd0",
        "colab_type": "code",
        "colab": {}
      },
      "source": [
        "tokenizer = Tokenizer(oov_token=oov_tok)\n",
        "tokenizer.fit_on_texts(X_train) \n",
        "tokenizer.fit_on_texts(X_test)"
      ],
      "execution_count": 19,
      "outputs": []
    },
    {
      "cell_type": "code",
      "metadata": {
        "id": "3tqikJ3N8YRP",
        "colab_type": "code",
        "colab": {
          "base_uri": "https://localhost:8080/",
          "height": 204
        },
        "outputId": "ae221810-f8de-49b8-94dc-b90c19656460"
      },
      "source": [
        "word_index = tokenizer.word_index\n",
        "print(len(word_index))\n",
        "dict(list(word_index.items())[0:10])"
      ],
      "execution_count": 20,
      "outputs": [
        {
          "output_type": "stream",
          "text": [
            "29727\n"
          ],
          "name": "stdout"
        },
        {
          "output_type": "execute_result",
          "data": {
            "text/plain": [
              "{'<oov>': 1,\n",
              " 'a': 6,\n",
              " 'and': 5,\n",
              " 'for': 9,\n",
              " 'in': 7,\n",
              " 'is': 10,\n",
              " 'of': 4,\n",
              " 's': 8,\n",
              " 'the': 2,\n",
              " 'to': 3}"
            ]
          },
          "metadata": {
            "tags": []
          },
          "execution_count": 20
        }
      ]
    },
    {
      "cell_type": "markdown",
      "metadata": {
        "id": "yHlLawBV_D3x",
        "colab_type": "text"
      },
      "source": [
        "### Add sequence to the word after tokenized"
      ]
    },
    {
      "cell_type": "code",
      "metadata": {
        "id": "XxAU6URK8msn",
        "colab_type": "code",
        "colab": {}
      },
      "source": [
        "train_seq = tokenizer.texts_to_sequences(X_train)\n",
        "test_seq = tokenizer.texts_to_sequences(X_test)"
      ],
      "execution_count": 21,
      "outputs": []
    },
    {
      "cell_type": "markdown",
      "metadata": {
        "id": "XNiLi57g_I_E",
        "colab_type": "text"
      },
      "source": [
        "### Add padding to word"
      ]
    },
    {
      "cell_type": "code",
      "metadata": {
        "id": "X7skRi0y89ZU",
        "colab_type": "code",
        "colab": {}
      },
      "source": [
        "train_pad = pad_sequences(train_seq, maxlen=max_length, padding=padding_type, truncating=trunc_type) \n",
        "test_pad = pad_sequences(test_seq, maxlen=max_length, padding=padding_type, truncating=trunc_type)"
      ],
      "execution_count": 22,
      "outputs": []
    },
    {
      "cell_type": "markdown",
      "metadata": {
        "id": "rwXNB2y-_S2y",
        "colab_type": "text"
      },
      "source": [
        "### Check padding result and real article text"
      ]
    },
    {
      "cell_type": "code",
      "metadata": {
        "id": "-g8evqrU9FGa",
        "colab_type": "code",
        "colab": {
          "base_uri": "https://localhost:8080/",
          "height": 88
        },
        "outputId": "fe7da6ae-7171-4d96-84ed-5ab9c83d498b"
      },
      "source": [
        "reverse_word_index = dict([(value, key) for (key, value) in word_index.items()])\n",
        "\n",
        "def decode_article(text):\n",
        "    return ' '.join([reverse_word_index.get(i, '?') for i in text])\n",
        "print(decode_article(train_pad[0]))\n",
        "print('---')\n",
        "print(X_train[0])"
      ],
      "execution_count": 23,
      "outputs": [
        {
          "output_type": "stream",
          "text": [
            "shares rise on new man utd offer shares in manchester united closed up 4 75 on monday following a new offer from us tycoon malcolm glazer the board of the football club is expected to meet early this week to discuss the latest proposal which values the club at £800m 1 5bn manchester united revealed on sunday that it had received a detailed proposal from mr glazer which looks set to receive more serious scrutiny the club has previously rejected mr glazer s approaches out of hand but a senior source at the club told the bbc this time it s different supporters group shareholders united however urged the club to reject the new deal a spokesman for the shareholders united said i can t see any difference compared to mr glazer s previous proposals other than £200m less debt he isn t bringing any money into the club he ll use our money to buy it mr glazer s latest move is being led by mr glazer s two sons avi and joel according to the financial times a proposal was received by david gill united s chief executive at the end of last week pitched at about 300p\n",
            "---\n",
            "shares rise on new man utd offer shares in manchester united closed up 4.75% on monday following a new offer from us tycoon malcolm glazer.  the board of the football club is expected to meet early this week to discuss the latest proposal  which values the club at £800m ($1.5bn). manchester united revealed on sunday that it had received a detailed proposal from mr glazer  which looks set to receive more serious scrutiny. the club has previously rejected mr glazer s approaches out of hand. but a senior source at the club told the bbc:  this time it s different.  supporters  group shareholders united  however  urged the club to reject the new deal.  a spokesman for the shareholders united said:  i can t see any difference (compared to mr glazer s previous proposals) other than £200m less debt.  he isn t bringing any money into the club; he ll use our money to buy it.   mr glazer s latest move is being led by mr glazer s two sons  avi and joel  according to the financial times. a proposal was received by david gill  united s chief executive  at the end of last week  pitched at about 300p a share. david cummings  head of uk equities for standard life investments  said he believed a  well funded  300p a share bid would be enough for mr glazer to take control of the club.   i do not think there is anything that manchester united fans can do about it   he told the bbc.  they can complain about it but it is curtains for them. they may not want him but they are going to get him.  the us tycoon  who has been wooing the club for the last 12 months  has approached the united board with  detailed proposals   it has confirmed.  mr glazer  who owns the tampa bay buccaneers team  hopes this will lead to a formal bid being accepted. he is believed to have increased the amount of equity in the new proposal  though it is not clear by how much. for his proposal to succeed  he needs the support of united s largest shareholders  the irish horseracing tycoons jp mcmanus and john magnier. they own 29% of united through their cubic expression investment vehicle. mr glazer and his family hold a stake of 28.1%. but it is not yet known whether mr mcmanus and mr magnier would support a glazer bid. nm rothschild  the investment bank  is advising mr glazer  according to the financial times. his previous adviser  jpmorgan  quit last year when mr glazer went ahead and voted against the appointment of three united directors to the board  against its advice. but the ft said it thought jp morgan may still have had some role in financing mr glazer s latest financial proposal.\n"
          ],
          "name": "stdout"
        }
      ]
    },
    {
      "cell_type": "markdown",
      "metadata": {
        "id": "313Nnt31AF3B",
        "colab_type": "text"
      },
      "source": [
        "## Model Creation"
      ]
    },
    {
      "cell_type": "markdown",
      "metadata": {
        "id": "UifzQq9DRW0s",
        "colab_type": "text"
      },
      "source": [
        "### Create Pre-Trained Word Embedding"
      ]
    },
    {
      "cell_type": "code",
      "metadata": {
        "id": "2_DM9QL2RM3F",
        "colab_type": "code",
        "colab": {}
      },
      "source": [
        "embeddings_index = {};\n",
        "with open('/content/glove.6B.100d.txt') as f:\n",
        "    for line in f:\n",
        "        values = line.split();\n",
        "        word = values[0];\n",
        "        coefs = np.asarray(values[1:], dtype='float32')\n",
        "        embeddings_index[word] = coefs;"
      ],
      "execution_count": 24,
      "outputs": []
    },
    {
      "cell_type": "code",
      "metadata": {
        "id": "awapVBCoRlFc",
        "colab_type": "code",
        "colab": {}
      },
      "source": [
        "embeddings_matrix = np.zeros((len(word_index)+1, embedding_dim))\n",
        "for word, i in word_index.items():\n",
        "    embedding_vector = embeddings_index.get(word)\n",
        "    if embedding_vector is not None:\n",
        "        embeddings_matrix[i] = embedding_vector"
      ],
      "execution_count": 25,
      "outputs": []
    },
    {
      "cell_type": "markdown",
      "metadata": {
        "id": "nJoUl9Goifds",
        "colab_type": "text"
      },
      "source": [
        "### Implementation to model"
      ]
    },
    {
      "cell_type": "code",
      "metadata": {
        "id": "q9x7DScjAChq",
        "colab_type": "code",
        "colab": {}
      },
      "source": [
        "tf.keras.backend.clear_session()\n",
        "model = tf.keras.Sequential([\n",
        "    tf.keras.layers.Embedding(len(word_index)+1, embedding_dim, input_length=max_length, weights=[embeddings_matrix], trainable=False),\n",
        "    tf.keras.layers.Dropout(0.2),\n",
        "    tf.keras.layers.LSTM(64),\n",
        "    tf.keras.layers.Dense(128, activation='relu'),\n",
        "    tf.keras.layers.Dense(64, activation='relu'),\n",
        "    tf.keras.layers.Dense(5, activation='softmax')\n",
        "])"
      ],
      "execution_count": 33,
      "outputs": []
    },
    {
      "cell_type": "code",
      "metadata": {
        "id": "7yjAYNxYYzUl",
        "colab_type": "code",
        "colab": {
          "base_uri": "https://localhost:8080/",
          "height": 51
        },
        "outputId": "38a36a6c-a1e4-443a-b656-f6a08aa59706"
      },
      "source": [
        "class stopTraining(tf.keras.callbacks.Callback):\n",
        "  def on_epoch_end(self, epoch, logs={}):\n",
        "    if(logs.get('val_accuracy') is not None and logs.get('val_accuracy') > 0.99):\n",
        "      print(\"\\nReached 99% Validation Accuracy, Stop training\")\n",
        "      self.model.stop_training = True\n",
        "\n",
        "callbacks = stopTraining()\n",
        "\n",
        "!rm -rf /content/logs/\n",
        "%load_ext tensorboard\n",
        "logdir = os.path.join(\"logs\", datetime.datetime.now().strftime(\"%Y%m%d-%H%M%S\"))\n",
        "tensorboard_callback = tf.keras.callbacks.TensorBoard(logdir, histogram_freq=1)"
      ],
      "execution_count": 32,
      "outputs": [
        {
          "output_type": "stream",
          "text": [
            "The tensorboard extension is already loaded. To reload it, use:\n",
            "  %reload_ext tensorboard\n"
          ],
          "name": "stdout"
        }
      ]
    },
    {
      "cell_type": "code",
      "metadata": {
        "id": "2bFFjBz5AJQQ",
        "colab_type": "code",
        "colab": {}
      },
      "source": [
        "model.compile(loss='categorical_crossentropy',optimizer='adam',metrics=['accuracy'])"
      ],
      "execution_count": 34,
      "outputs": []
    },
    {
      "cell_type": "code",
      "metadata": {
        "id": "tSW6EIL7BRxs",
        "colab_type": "code",
        "colab": {
          "base_uri": "https://localhost:8080/",
          "height": 734
        },
        "outputId": "9318cfa8-d3f3-46d3-9ee6-fd9beb69aa75"
      },
      "source": [
        "history = model.fit(train_pad, Y_train, epochs=20, validation_data=(test_pad, Y_test), callbacks=[callbacks, tensorboard_callback])"
      ],
      "execution_count": 35,
      "outputs": [
        {
          "output_type": "stream",
          "text": [
            "Epoch 1/20\n",
            " 2/56 [>.............................] - ETA: 3s - loss: 1.6614 - accuracy: 0.1094WARNING:tensorflow:Callbacks method `on_train_batch_end` is slow compared to the batch time (batch time: 0.0240s vs `on_train_batch_end` time: 0.1089s). Check your callbacks.\n",
            "56/56 [==============================] - 2s 28ms/step - loss: 1.3692 - accuracy: 0.4472 - val_loss: 0.8210 - val_accuracy: 0.7146\n",
            "Epoch 2/20\n",
            "56/56 [==============================] - 1s 19ms/step - loss: 0.7728 - accuracy: 0.7438 - val_loss: 0.5092 - val_accuracy: 0.8764\n",
            "Epoch 3/20\n",
            "56/56 [==============================] - 1s 19ms/step - loss: 0.7343 - accuracy: 0.7404 - val_loss: 0.6096 - val_accuracy: 0.8045\n",
            "Epoch 4/20\n",
            "56/56 [==============================] - 1s 19ms/step - loss: 0.6356 - accuracy: 0.7747 - val_loss: 0.4302 - val_accuracy: 0.8539\n",
            "Epoch 5/20\n",
            "56/56 [==============================] - 1s 19ms/step - loss: 0.4255 - accuracy: 0.8545 - val_loss: 0.4749 - val_accuracy: 0.8427\n",
            "Epoch 6/20\n",
            "56/56 [==============================] - 1s 19ms/step - loss: 0.4057 - accuracy: 0.8820 - val_loss: 0.3922 - val_accuracy: 0.8966\n",
            "Epoch 7/20\n",
            "56/56 [==============================] - 1s 18ms/step - loss: 0.3494 - accuracy: 0.8871 - val_loss: 0.2887 - val_accuracy: 0.8989\n",
            "Epoch 8/20\n",
            "56/56 [==============================] - 1s 19ms/step - loss: 0.2862 - accuracy: 0.9028 - val_loss: 0.2754 - val_accuracy: 0.9034\n",
            "Epoch 9/20\n",
            "56/56 [==============================] - 1s 19ms/step - loss: 0.3317 - accuracy: 0.8904 - val_loss: 0.2691 - val_accuracy: 0.9258\n",
            "Epoch 10/20\n",
            "56/56 [==============================] - 1s 19ms/step - loss: 0.2421 - accuracy: 0.9309 - val_loss: 0.2141 - val_accuracy: 0.9416\n",
            "Epoch 11/20\n",
            "56/56 [==============================] - 1s 19ms/step - loss: 0.2404 - accuracy: 0.9236 - val_loss: 0.1740 - val_accuracy: 0.9618\n",
            "Epoch 12/20\n",
            "56/56 [==============================] - 1s 19ms/step - loss: 0.1860 - accuracy: 0.9461 - val_loss: 0.3548 - val_accuracy: 0.8360\n",
            "Epoch 13/20\n",
            "56/56 [==============================] - 1s 19ms/step - loss: 0.2627 - accuracy: 0.9090 - val_loss: 0.2218 - val_accuracy: 0.9303\n",
            "Epoch 14/20\n",
            "56/56 [==============================] - 1s 19ms/step - loss: 0.1809 - accuracy: 0.9382 - val_loss: 0.1630 - val_accuracy: 0.9506\n",
            "Epoch 15/20\n",
            "56/56 [==============================] - 1s 19ms/step - loss: 0.1982 - accuracy: 0.9365 - val_loss: 0.1782 - val_accuracy: 0.9416\n",
            "Epoch 16/20\n",
            "56/56 [==============================] - 1s 19ms/step - loss: 0.1484 - accuracy: 0.9539 - val_loss: 0.1600 - val_accuracy: 0.9573\n",
            "Epoch 17/20\n",
            "56/56 [==============================] - 1s 19ms/step - loss: 0.1879 - accuracy: 0.9438 - val_loss: 0.3826 - val_accuracy: 0.8742\n",
            "Epoch 18/20\n",
            "56/56 [==============================] - 1s 19ms/step - loss: 0.1671 - accuracy: 0.9466 - val_loss: 0.1414 - val_accuracy: 0.9596\n",
            "Epoch 19/20\n",
            "56/56 [==============================] - 1s 19ms/step - loss: 0.1399 - accuracy: 0.9551 - val_loss: 0.1769 - val_accuracy: 0.9551\n",
            "Epoch 20/20\n",
            "56/56 [==============================] - 1s 19ms/step - loss: 0.1189 - accuracy: 0.9590 - val_loss: 0.1629 - val_accuracy: 0.9506\n"
          ],
          "name": "stdout"
        }
      ]
    },
    {
      "cell_type": "code",
      "metadata": {
        "id": "hicX6x2Bbw6w",
        "colab_type": "code",
        "colab": {}
      },
      "source": [
        "%tensorboard --logdir logs\n",
        "# Please run this on google colab to see the output."
      ],
      "execution_count": null,
      "outputs": []
    },
    {
      "cell_type": "code",
      "metadata": {
        "id": "U2KIZJ1TqCJ6",
        "colab_type": "code",
        "colab": {
          "base_uri": "https://localhost:8080/",
          "height": 68
        },
        "outputId": "58450519-7e40-4aa4-9bcb-dc0661a3b124"
      },
      "source": [
        "eval = model.evaluate(test_pad, Y_test, batch_size=8)\n",
        "print(\"Final Model Loss = \", eval[0]*100, \"%\")\n",
        "print(\"Final Model Accuracy = \", eval[1]*100, \"%\")"
      ],
      "execution_count": 39,
      "outputs": [
        {
          "output_type": "stream",
          "text": [
            "56/56 [==============================] - 0s 7ms/step - loss: 0.1629 - accuracy: 0.9506\n",
            "Final Model Loss =  16.29057079553604 %\n",
            "Final Model Accuracy =  95.05618214607239 %\n"
          ],
          "name": "stdout"
        }
      ]
    },
    {
      "cell_type": "code",
      "metadata": {
        "id": "i_go_V_wqYh0",
        "colab_type": "code",
        "colab": {
          "base_uri": "https://localhost:8080/",
          "height": 136
        },
        "outputId": "02f63e0d-fce0-44d2-88f4-78a137c70c1b"
      },
      "source": [
        "preds = [\"Cristiano Ronaldo just score a goal\"]\n",
        "p_seq = tokenizer.texts_to_sequences(preds)\n",
        "p_pad = pad_sequences(p_seq, maxlen=max_length)\n",
        "pred = model.predict(p_pad)\n",
        "labels = columns\n",
        "\n",
        "for label in labels:\n",
        "  print(label, \"confidence = \", pred[0][labels.index(label)]*100, \"%\")\n",
        "\n",
        "print(\"\\nPrediction = \", labels[np.argmax(pred)])"
      ],
      "execution_count": 48,
      "outputs": [
        {
          "output_type": "stream",
          "text": [
            "business confidence =  0.002067300010821782 %\n",
            "entertainment confidence =  0.0007987211574800313 %\n",
            "politics confidence =  0.0007784024091961328 %\n",
            "sport confidence =  99.99591112136841 %\n",
            "tech confidence =  0.00045541455619968474 %\n",
            "\n",
            "Prediction =  sport\n"
          ],
          "name": "stdout"
        }
      ]
    }
  ]
}