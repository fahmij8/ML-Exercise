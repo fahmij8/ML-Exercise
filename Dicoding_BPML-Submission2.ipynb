{
  "nbformat": 4,
  "nbformat_minor": 0,
  "metadata": {
    "colab": {
      "name": "Dicoding - Time Series.ipynb",
      "provenance": []
    },
    "kernelspec": {
      "name": "python3",
      "display_name": "Python 3"
    },
    "accelerator": "TPU"
  },
  "cells": [
    {
      "cell_type": "markdown",
      "metadata": {
        "id": "3otC9cFGeuas",
        "colab_type": "text"
      },
      "source": [
        "# Australia Weather Forecasting\n",
        "### By Fahmi Jabbar (rootmawar77@gmail.com)\n",
        "---\n",
        "**Disclaimer :** \n",
        "- Any code below is done by purposed to complete *Dicoding* Submission and made 100% by myself\n",
        "\n"
      ]
    },
    {
      "cell_type": "markdown",
      "metadata": {
        "id": "0-Tv_j5RWBVD",
        "colab_type": "text"
      },
      "source": [
        "---\n",
        "**Dataset Information** : \n",
        "\n",
        "![Dataset Information](https://image.prntscr.com/image/XwiEbOFdR9uiuPiRvnLDsg.png)\n",
        "\n",
        "Link : https://www.kaggle.com/jsphyg/weather-dataset-rattle-package\n",
        "\n",
        "Consist 142k time series weather data between 1 Nov 2007 - 25 Jun 2017"
      ]
    },
    {
      "cell_type": "markdown",
      "metadata": {
        "id": "0puFpdHZmAc4",
        "colab_type": "text"
      },
      "source": [
        "## Import Important Libraries"
      ]
    },
    {
      "cell_type": "code",
      "metadata": {
        "id": "Pv001pGBUQ2k",
        "colab_type": "code",
        "colab": {}
      },
      "source": [
        "import matplotlib.pyplot as plt\n",
        "import os, sys, datetime\n",
        "import pandas as pd\n",
        "import numpy as np\n",
        "import tensorflow as tf\n",
        "\n",
        "from sklearn.model_selection import train_test_split"
      ],
      "execution_count": 1,
      "outputs": []
    },
    {
      "cell_type": "markdown",
      "metadata": {
        "id": "UPqi-s6PmC6Y",
        "colab_type": "text"
      },
      "source": [
        "## Download & Unzip Dataset"
      ]
    },
    {
      "cell_type": "code",
      "metadata": {
        "id": "98pww8y3UG4P",
        "colab_type": "code",
        "colab": {}
      },
      "source": [
        "os.environ['KAGGLE_USERNAME'] = \"fahmijabbar\"\n",
        "os.environ['KAGGLE_KEY'] = \"70e97bf263ab4ed3b437c10c73941268\""
      ],
      "execution_count": 2,
      "outputs": []
    },
    {
      "cell_type": "code",
      "metadata": {
        "id": "8u-I0Ymse9DR",
        "colab_type": "code",
        "colab": {
          "base_uri": "https://localhost:8080/",
          "height": 68
        },
        "outputId": "0c366310-b04f-4d1b-d549-d639d4527eae"
      },
      "source": [
        "!kaggle datasets download -d jsphyg/weather-dataset-rattle-package"
      ],
      "execution_count": 3,
      "outputs": [
        {
          "output_type": "stream",
          "text": [
            "Downloading weather-dataset-rattle-package.zip to /content\n",
            "\r  0% 0.00/3.87M [00:00<?, ?B/s]\n",
            "\r100% 3.87M/3.87M [00:00<00:00, 59.2MB/s]\n"
          ],
          "name": "stdout"
        }
      ]
    },
    {
      "cell_type": "code",
      "metadata": {
        "id": "9_gvX9vyfPBw",
        "colab_type": "code",
        "colab": {
          "base_uri": "https://localhost:8080/",
          "height": 51
        },
        "outputId": "fb5a88da-a4c7-4002-a6c4-202eb7c99bbe"
      },
      "source": [
        "!unzip /content/weather-dataset-rattle-package.zip"
      ],
      "execution_count": 4,
      "outputs": [
        {
          "output_type": "stream",
          "text": [
            "Archive:  /content/weather-dataset-rattle-package.zip\n",
            "  inflating: weatherAUS.csv          \n"
          ],
          "name": "stdout"
        }
      ]
    },
    {
      "cell_type": "markdown",
      "metadata": {
        "id": "uG3YauLpmF7F",
        "colab_type": "text"
      },
      "source": [
        "## EDA"
      ]
    },
    {
      "cell_type": "markdown",
      "metadata": {
        "id": "SyC9N6sUmHT1",
        "colab_type": "text"
      },
      "source": [
        "### txt to pandas dataframe"
      ]
    },
    {
      "cell_type": "code",
      "metadata": {
        "id": "Xu99f-vKUVFG",
        "colab_type": "code",
        "colab": {}
      },
      "source": [
        "df = pd.read_csv('/content/weatherAUS.csv')"
      ],
      "execution_count": 5,
      "outputs": []
    },
    {
      "cell_type": "code",
      "metadata": {
        "id": "eK4QzbKGUcYQ",
        "colab_type": "code",
        "colab": {
          "base_uri": "https://localhost:8080/",
          "height": 309
        },
        "outputId": "a0152a15-7003-4f16-ba32-b7bfdc459dec"
      },
      "source": [
        "df.head()"
      ],
      "execution_count": 6,
      "outputs": [
        {
          "output_type": "execute_result",
          "data": {
            "text/html": [
              "<div>\n",
              "<style scoped>\n",
              "    .dataframe tbody tr th:only-of-type {\n",
              "        vertical-align: middle;\n",
              "    }\n",
              "\n",
              "    .dataframe tbody tr th {\n",
              "        vertical-align: top;\n",
              "    }\n",
              "\n",
              "    .dataframe thead th {\n",
              "        text-align: right;\n",
              "    }\n",
              "</style>\n",
              "<table border=\"1\" class=\"dataframe\">\n",
              "  <thead>\n",
              "    <tr style=\"text-align: right;\">\n",
              "      <th></th>\n",
              "      <th>Date</th>\n",
              "      <th>Location</th>\n",
              "      <th>MinTemp</th>\n",
              "      <th>MaxTemp</th>\n",
              "      <th>Rainfall</th>\n",
              "      <th>Evaporation</th>\n",
              "      <th>Sunshine</th>\n",
              "      <th>WindGustDir</th>\n",
              "      <th>WindGustSpeed</th>\n",
              "      <th>WindDir9am</th>\n",
              "      <th>WindDir3pm</th>\n",
              "      <th>WindSpeed9am</th>\n",
              "      <th>WindSpeed3pm</th>\n",
              "      <th>Humidity9am</th>\n",
              "      <th>Humidity3pm</th>\n",
              "      <th>Pressure9am</th>\n",
              "      <th>Pressure3pm</th>\n",
              "      <th>Cloud9am</th>\n",
              "      <th>Cloud3pm</th>\n",
              "      <th>Temp9am</th>\n",
              "      <th>Temp3pm</th>\n",
              "      <th>RainToday</th>\n",
              "      <th>RISK_MM</th>\n",
              "      <th>RainTomorrow</th>\n",
              "    </tr>\n",
              "  </thead>\n",
              "  <tbody>\n",
              "    <tr>\n",
              "      <th>0</th>\n",
              "      <td>2008-12-01</td>\n",
              "      <td>Albury</td>\n",
              "      <td>13.4</td>\n",
              "      <td>22.9</td>\n",
              "      <td>0.6</td>\n",
              "      <td>NaN</td>\n",
              "      <td>NaN</td>\n",
              "      <td>W</td>\n",
              "      <td>44.0</td>\n",
              "      <td>W</td>\n",
              "      <td>WNW</td>\n",
              "      <td>20.0</td>\n",
              "      <td>24.0</td>\n",
              "      <td>71.0</td>\n",
              "      <td>22.0</td>\n",
              "      <td>1007.7</td>\n",
              "      <td>1007.1</td>\n",
              "      <td>8.0</td>\n",
              "      <td>NaN</td>\n",
              "      <td>16.9</td>\n",
              "      <td>21.8</td>\n",
              "      <td>No</td>\n",
              "      <td>0.0</td>\n",
              "      <td>No</td>\n",
              "    </tr>\n",
              "    <tr>\n",
              "      <th>1</th>\n",
              "      <td>2008-12-02</td>\n",
              "      <td>Albury</td>\n",
              "      <td>7.4</td>\n",
              "      <td>25.1</td>\n",
              "      <td>0.0</td>\n",
              "      <td>NaN</td>\n",
              "      <td>NaN</td>\n",
              "      <td>WNW</td>\n",
              "      <td>44.0</td>\n",
              "      <td>NNW</td>\n",
              "      <td>WSW</td>\n",
              "      <td>4.0</td>\n",
              "      <td>22.0</td>\n",
              "      <td>44.0</td>\n",
              "      <td>25.0</td>\n",
              "      <td>1010.6</td>\n",
              "      <td>1007.8</td>\n",
              "      <td>NaN</td>\n",
              "      <td>NaN</td>\n",
              "      <td>17.2</td>\n",
              "      <td>24.3</td>\n",
              "      <td>No</td>\n",
              "      <td>0.0</td>\n",
              "      <td>No</td>\n",
              "    </tr>\n",
              "    <tr>\n",
              "      <th>2</th>\n",
              "      <td>2008-12-03</td>\n",
              "      <td>Albury</td>\n",
              "      <td>12.9</td>\n",
              "      <td>25.7</td>\n",
              "      <td>0.0</td>\n",
              "      <td>NaN</td>\n",
              "      <td>NaN</td>\n",
              "      <td>WSW</td>\n",
              "      <td>46.0</td>\n",
              "      <td>W</td>\n",
              "      <td>WSW</td>\n",
              "      <td>19.0</td>\n",
              "      <td>26.0</td>\n",
              "      <td>38.0</td>\n",
              "      <td>30.0</td>\n",
              "      <td>1007.6</td>\n",
              "      <td>1008.7</td>\n",
              "      <td>NaN</td>\n",
              "      <td>2.0</td>\n",
              "      <td>21.0</td>\n",
              "      <td>23.2</td>\n",
              "      <td>No</td>\n",
              "      <td>0.0</td>\n",
              "      <td>No</td>\n",
              "    </tr>\n",
              "    <tr>\n",
              "      <th>3</th>\n",
              "      <td>2008-12-04</td>\n",
              "      <td>Albury</td>\n",
              "      <td>9.2</td>\n",
              "      <td>28.0</td>\n",
              "      <td>0.0</td>\n",
              "      <td>NaN</td>\n",
              "      <td>NaN</td>\n",
              "      <td>NE</td>\n",
              "      <td>24.0</td>\n",
              "      <td>SE</td>\n",
              "      <td>E</td>\n",
              "      <td>11.0</td>\n",
              "      <td>9.0</td>\n",
              "      <td>45.0</td>\n",
              "      <td>16.0</td>\n",
              "      <td>1017.6</td>\n",
              "      <td>1012.8</td>\n",
              "      <td>NaN</td>\n",
              "      <td>NaN</td>\n",
              "      <td>18.1</td>\n",
              "      <td>26.5</td>\n",
              "      <td>No</td>\n",
              "      <td>1.0</td>\n",
              "      <td>No</td>\n",
              "    </tr>\n",
              "    <tr>\n",
              "      <th>4</th>\n",
              "      <td>2008-12-05</td>\n",
              "      <td>Albury</td>\n",
              "      <td>17.5</td>\n",
              "      <td>32.3</td>\n",
              "      <td>1.0</td>\n",
              "      <td>NaN</td>\n",
              "      <td>NaN</td>\n",
              "      <td>W</td>\n",
              "      <td>41.0</td>\n",
              "      <td>ENE</td>\n",
              "      <td>NW</td>\n",
              "      <td>7.0</td>\n",
              "      <td>20.0</td>\n",
              "      <td>82.0</td>\n",
              "      <td>33.0</td>\n",
              "      <td>1010.8</td>\n",
              "      <td>1006.0</td>\n",
              "      <td>7.0</td>\n",
              "      <td>8.0</td>\n",
              "      <td>17.8</td>\n",
              "      <td>29.7</td>\n",
              "      <td>No</td>\n",
              "      <td>0.2</td>\n",
              "      <td>No</td>\n",
              "    </tr>\n",
              "  </tbody>\n",
              "</table>\n",
              "</div>"
            ],
            "text/plain": [
              "         Date Location  MinTemp  ...  RainToday  RISK_MM  RainTomorrow\n",
              "0  2008-12-01   Albury     13.4  ...         No      0.0            No\n",
              "1  2008-12-02   Albury      7.4  ...         No      0.0            No\n",
              "2  2008-12-03   Albury     12.9  ...         No      0.0            No\n",
              "3  2008-12-04   Albury      9.2  ...         No      1.0            No\n",
              "4  2008-12-05   Albury     17.5  ...         No      0.2            No\n",
              "\n",
              "[5 rows x 24 columns]"
            ]
          },
          "metadata": {
            "tags": []
          },
          "execution_count": 6
        }
      ]
    },
    {
      "cell_type": "markdown",
      "metadata": {
        "id": "B3h4fBrPmMJz",
        "colab_type": "text"
      },
      "source": [
        "### Check for empty value"
      ]
    },
    {
      "cell_type": "code",
      "metadata": {
        "id": "GHgvg-9OhJL3",
        "colab_type": "code",
        "colab": {
          "base_uri": "https://localhost:8080/",
          "height": 442
        },
        "outputId": "b6ceae66-1acc-450f-b55c-f34ac2cdc452"
      },
      "source": [
        "df.isna().sum()"
      ],
      "execution_count": 7,
      "outputs": [
        {
          "output_type": "execute_result",
          "data": {
            "text/plain": [
              "Date                 0\n",
              "Location             0\n",
              "MinTemp            637\n",
              "MaxTemp            322\n",
              "Rainfall          1406\n",
              "Evaporation      60843\n",
              "Sunshine         67816\n",
              "WindGustDir       9330\n",
              "WindGustSpeed     9270\n",
              "WindDir9am       10013\n",
              "WindDir3pm        3778\n",
              "WindSpeed9am      1348\n",
              "WindSpeed3pm      2630\n",
              "Humidity9am       1774\n",
              "Humidity3pm       3610\n",
              "Pressure9am      14014\n",
              "Pressure3pm      13981\n",
              "Cloud9am         53657\n",
              "Cloud3pm         57094\n",
              "Temp9am            904\n",
              "Temp3pm           2726\n",
              "RainToday         1406\n",
              "RISK_MM              0\n",
              "RainTomorrow         0\n",
              "dtype: int64"
            ]
          },
          "metadata": {
            "tags": []
          },
          "execution_count": 7
        }
      ]
    },
    {
      "cell_type": "code",
      "metadata": {
        "id": "48kNRr0A-taK",
        "colab_type": "code",
        "colab": {}
      },
      "source": [
        "# Drop any null or empty data\n",
        "df = df.dropna(how='any')"
      ],
      "execution_count": 8,
      "outputs": []
    },
    {
      "cell_type": "code",
      "metadata": {
        "id": "PYBWhOHy-zdi",
        "colab_type": "code",
        "colab": {
          "base_uri": "https://localhost:8080/",
          "height": 442
        },
        "outputId": "9a0ac74b-e1db-42d0-dabe-415e8d701946"
      },
      "source": [
        "df.isna().sum()"
      ],
      "execution_count": 9,
      "outputs": [
        {
          "output_type": "execute_result",
          "data": {
            "text/plain": [
              "Date             0\n",
              "Location         0\n",
              "MinTemp          0\n",
              "MaxTemp          0\n",
              "Rainfall         0\n",
              "Evaporation      0\n",
              "Sunshine         0\n",
              "WindGustDir      0\n",
              "WindGustSpeed    0\n",
              "WindDir9am       0\n",
              "WindDir3pm       0\n",
              "WindSpeed9am     0\n",
              "WindSpeed3pm     0\n",
              "Humidity9am      0\n",
              "Humidity3pm      0\n",
              "Pressure9am      0\n",
              "Pressure3pm      0\n",
              "Cloud9am         0\n",
              "Cloud3pm         0\n",
              "Temp9am          0\n",
              "Temp3pm          0\n",
              "RainToday        0\n",
              "RISK_MM          0\n",
              "RainTomorrow     0\n",
              "dtype: int64"
            ]
          },
          "metadata": {
            "tags": []
          },
          "execution_count": 9
        }
      ]
    },
    {
      "cell_type": "markdown",
      "metadata": {
        "id": "uymUerEmmP0d",
        "colab_type": "text"
      },
      "source": [
        "## Submission objective\n",
        "\n",
        "**Please read this**\n",
        "\n",
        "I would like to forecast the max temprature from time to time, regardless to any other condition\n",
        "\n",
        "I will make this dataset as univariate dataset"
      ]
    },
    {
      "cell_type": "markdown",
      "metadata": {
        "id": "SZFzxFKQzGL4",
        "colab_type": "text"
      },
      "source": [
        "### Removing Unnecessary columns"
      ]
    },
    {
      "cell_type": "code",
      "metadata": {
        "id": "QHOeapcxx3_A",
        "colab_type": "code",
        "colab": {}
      },
      "source": [
        "removecol = []\n",
        "for columns in df.columns:\n",
        "  if (columns == 'Date' or columns == 'MaxTemp'):\n",
        "    pass\n",
        "  else:\n",
        "    removecol.append(columns)"
      ],
      "execution_count": 10,
      "outputs": []
    },
    {
      "cell_type": "code",
      "metadata": {
        "id": "5xTgk2UDyYsY",
        "colab_type": "code",
        "colab": {}
      },
      "source": [
        "df.drop(removecol, axis=1, inplace=True)"
      ],
      "execution_count": 11,
      "outputs": []
    },
    {
      "cell_type": "markdown",
      "metadata": {
        "id": "TNRv7bmp0x32",
        "colab_type": "text"
      },
      "source": [
        "### Sort by date time"
      ]
    },
    {
      "cell_type": "code",
      "metadata": {
        "id": "SG2tGWay0gk7",
        "colab_type": "code",
        "colab": {}
      },
      "source": [
        "df = df.sort_values('Date')"
      ],
      "execution_count": 12,
      "outputs": []
    },
    {
      "cell_type": "code",
      "metadata": {
        "id": "xTiteWA5yiRc",
        "colab_type": "code",
        "colab": {
          "base_uri": "https://localhost:8080/",
          "height": 204
        },
        "outputId": "8f20f2d2-d05f-4731-c899-eff7d617d2ac"
      },
      "source": [
        "df.head()"
      ],
      "execution_count": 13,
      "outputs": [
        {
          "output_type": "execute_result",
          "data": {
            "text/html": [
              "<div>\n",
              "<style scoped>\n",
              "    .dataframe tbody tr th:only-of-type {\n",
              "        vertical-align: middle;\n",
              "    }\n",
              "\n",
              "    .dataframe tbody tr th {\n",
              "        vertical-align: top;\n",
              "    }\n",
              "\n",
              "    .dataframe thead th {\n",
              "        text-align: right;\n",
              "    }\n",
              "</style>\n",
              "<table border=\"1\" class=\"dataframe\">\n",
              "  <thead>\n",
              "    <tr style=\"text-align: right;\">\n",
              "      <th></th>\n",
              "      <th>Date</th>\n",
              "      <th>MaxTemp</th>\n",
              "    </tr>\n",
              "  </thead>\n",
              "  <tbody>\n",
              "    <tr>\n",
              "      <th>44351</th>\n",
              "      <td>2007-11-01</td>\n",
              "      <td>24.3</td>\n",
              "    </tr>\n",
              "    <tr>\n",
              "      <th>44352</th>\n",
              "      <td>2007-11-02</td>\n",
              "      <td>26.9</td>\n",
              "    </tr>\n",
              "    <tr>\n",
              "      <th>44353</th>\n",
              "      <td>2007-11-03</td>\n",
              "      <td>23.4</td>\n",
              "    </tr>\n",
              "    <tr>\n",
              "      <th>44354</th>\n",
              "      <td>2007-11-04</td>\n",
              "      <td>15.5</td>\n",
              "    </tr>\n",
              "    <tr>\n",
              "      <th>44355</th>\n",
              "      <td>2007-11-05</td>\n",
              "      <td>16.1</td>\n",
              "    </tr>\n",
              "  </tbody>\n",
              "</table>\n",
              "</div>"
            ],
            "text/plain": [
              "             Date  MaxTemp\n",
              "44351  2007-11-01     24.3\n",
              "44352  2007-11-02     26.9\n",
              "44353  2007-11-03     23.4\n",
              "44354  2007-11-04     15.5\n",
              "44355  2007-11-05     16.1"
            ]
          },
          "metadata": {
            "tags": []
          },
          "execution_count": 13
        }
      ]
    },
    {
      "cell_type": "code",
      "metadata": {
        "id": "T4FUZZoX_atl",
        "colab_type": "code",
        "colab": {
          "base_uri": "https://localhost:8080/",
          "height": 170
        },
        "outputId": "ddb3100e-10cd-410f-d1ed-fb89349aa850"
      },
      "source": [
        "df.info()"
      ],
      "execution_count": 14,
      "outputs": [
        {
          "output_type": "stream",
          "text": [
            "<class 'pandas.core.frame.DataFrame'>\n",
            "Int64Index: 56420 entries, 44351 to 78750\n",
            "Data columns (total 2 columns):\n",
            " #   Column   Non-Null Count  Dtype  \n",
            "---  ------   --------------  -----  \n",
            " 0   Date     56420 non-null  object \n",
            " 1   MaxTemp  56420 non-null  float64\n",
            "dtypes: float64(1), object(1)\n",
            "memory usage: 1.3+ MB\n"
          ],
          "name": "stdout"
        }
      ]
    },
    {
      "cell_type": "markdown",
      "metadata": {
        "id": "oHkf7ZFw01GD",
        "colab_type": "text"
      },
      "source": [
        "### Temprature Visualization from time to time"
      ]
    },
    {
      "cell_type": "code",
      "metadata": {
        "id": "lJwFafdW1lr-",
        "colab_type": "code",
        "colab": {
          "base_uri": "https://localhost:8080/",
          "height": 483
        },
        "outputId": "60916697-4312-4456-e604-6d1927d04314"
      },
      "source": [
        "plot_features = df['MaxTemp']\n",
        "plot_features.index = df['Date']\n",
        "_ = plot_features.plot(figsize=(20,8), subplots=True)"
      ],
      "execution_count": 15,
      "outputs": [
        {
          "output_type": "display_data",
          "data": {
            "image/png": "[encoded data removed]",
            "text/plain": [
              "<Figure size 1440x576 with 1 Axes>"
            ]
          },
          "metadata": {
            "tags": [],
            "needs_background": "light"
          }
        }
      ]
    },
    {
      "cell_type": "markdown",
      "metadata": {
        "id": "27mfrKsI_izI",
        "colab_type": "text"
      },
      "source": [
        "As you can see, it's seasonal dataset\n",
        "\n",
        "if the max temp is low that means winter, otherwise summer. \n",
        "\n",
        "Anything in between is autumn or spring."
      ]
    },
    {
      "cell_type": "markdown",
      "metadata": {
        "id": "an7fbD8vBG6Y",
        "colab_type": "text"
      },
      "source": [
        "### Requirements"
      ]
    },
    {
      "cell_type": "markdown",
      "metadata": {
        "id": "21qOExHbBI9e",
        "colab_type": "text"
      },
      "source": [
        "Find minimum data and maximum data"
      ]
    },
    {
      "cell_type": "code",
      "metadata": {
        "id": "fD5MeOBi_10t",
        "colab_type": "code",
        "colab": {
          "base_uri": "https://localhost:8080/",
          "height": 51
        },
        "outputId": "0613d3c6-9a58-40ac-d7be-c01eaf864a81"
      },
      "source": [
        "minscale = df['MaxTemp'].min()\n",
        "print(minscale)\n",
        "maxscale = df['MaxTemp'].max()\n",
        "print(maxscale)"
      ],
      "execution_count": 16,
      "outputs": [
        {
          "output_type": "stream",
          "text": [
            "4.1\n",
            "48.1\n"
          ],
          "name": "stdout"
        }
      ]
    },
    {
      "cell_type": "markdown",
      "metadata": {
        "id": "F6dPXOGfBMQr",
        "colab_type": "text"
      },
      "source": [
        "My minimum MAE is"
      ]
    },
    {
      "cell_type": "code",
      "metadata": {
        "id": "U1xNuX95A1N2",
        "colab_type": "code",
        "colab": {
          "base_uri": "https://localhost:8080/",
          "height": 34
        },
        "outputId": "4cb37d20-ffb1-4d75-ddd8-c3bc3a2db1d8"
      },
      "source": [
        "maeRequirements = (maxscale - minscale) * 10/100\n",
        "maeRequirements"
      ],
      "execution_count": 17,
      "outputs": [
        {
          "output_type": "execute_result",
          "data": {
            "text/plain": [
              "4.4"
            ]
          },
          "metadata": {
            "tags": []
          },
          "execution_count": 17
        }
      ]
    },
    {
      "cell_type": "markdown",
      "metadata": {
        "id": "6OSxlw7gBdQ1",
        "colab_type": "text"
      },
      "source": [
        "## Data Preparation"
      ]
    },
    {
      "cell_type": "code",
      "metadata": {
        "id": "MOd6uwk7BhyU",
        "colab_type": "code",
        "colab": {}
      },
      "source": [
        "#Important function, sources : https://github.com/lmoroney/dlaicourse/blob/master/TensorFlow%20In%20Practice/Course%204%20-%20S%2BP/S%2BP%20Week%204%20Exercise%20Answer.ipynb\n",
        "def windowed_dataset(series, window_size, batch_size, shuffle_buffer):\n",
        "    series = tf.expand_dims(series, axis=-1)\n",
        "    ds = tf.data.Dataset.from_tensor_slices(series)\n",
        "    ds = ds.window(window_size + 1, shift=1, drop_remainder=True)\n",
        "    ds = ds.flat_map(lambda w: w.batch(window_size + 1))\n",
        "    ds = ds.shuffle(shuffle_buffer)\n",
        "    ds = ds.map(lambda w: (w[:-1], w[1:]))\n",
        "    return ds.batch(batch_size).prefetch(1)"
      ],
      "execution_count": 18,
      "outputs": []
    },
    {
      "cell_type": "markdown",
      "metadata": {
        "id": "F-Nu_jpnVG8N",
        "colab_type": "text"
      },
      "source": [
        "### Split Dataset"
      ]
    },
    {
      "cell_type": "code",
      "metadata": {
        "id": "riSB6snnCvFB",
        "colab_type": "code",
        "colab": {}
      },
      "source": [
        "split_time = int(len(df) * 0.8)\n",
        "window_size = 64\n",
        "batch_size = 256\n",
        "shuffle_buffer_size = 1000"
      ],
      "execution_count": 19,
      "outputs": []
    },
    {
      "cell_type": "code",
      "metadata": {
        "id": "3AZauPZUEsES",
        "colab_type": "code",
        "colab": {}
      },
      "source": [
        "date_train = df['Date'].values[:split_time]\n",
        "x_train = df['MaxTemp'].values[:split_time]\n",
        "date_val = df['Date'].values[split_time:]\n",
        "x_val = df['MaxTemp'].values[split_time:]"
      ],
      "execution_count": 20,
      "outputs": []
    },
    {
      "cell_type": "code",
      "metadata": {
        "id": "bGky28_8FGcW",
        "colab_type": "code",
        "colab": {
          "base_uri": "https://localhost:8080/",
          "height": 85
        },
        "outputId": "ac494003-b454-43dd-8045-e6859e552d0d"
      },
      "source": [
        "print(len(x_train))\n",
        "print(len(x_val))\n",
        "print(len(date_train))\n",
        "print(len(date_val))"
      ],
      "execution_count": 21,
      "outputs": [
        {
          "output_type": "stream",
          "text": [
            "45136\n",
            "11284\n",
            "45136\n",
            "11284\n"
          ],
          "name": "stdout"
        }
      ]
    },
    {
      "cell_type": "markdown",
      "metadata": {
        "id": "ucpQKwgHW8JC",
        "colab_type": "text"
      },
      "source": [
        "The dataset reduced to around 56k due to lots of null rows and I remove it"
      ]
    },
    {
      "cell_type": "markdown",
      "metadata": {
        "id": "ystIx1IiVJH7",
        "colab_type": "text"
      },
      "source": [
        "### Change dataset to windowed dataset"
      ]
    },
    {
      "cell_type": "code",
      "metadata": {
        "id": "qufS7bViF6d8",
        "colab_type": "code",
        "colab": {}
      },
      "source": [
        "train_set = windowed_dataset(x_train, window_size, batch_size, shuffle_buffer_size)"
      ],
      "execution_count": 22,
      "outputs": []
    },
    {
      "cell_type": "markdown",
      "metadata": {
        "id": "OdccsT9rVNIt",
        "colab_type": "text"
      },
      "source": [
        "## Model Creation"
      ]
    },
    {
      "cell_type": "markdown",
      "metadata": {
        "id": "lYoJhhlTVRKR",
        "colab_type": "text"
      },
      "source": [
        "### Model Architecture"
      ]
    },
    {
      "cell_type": "code",
      "metadata": {
        "id": "t84XQosRGQi6",
        "colab_type": "code",
        "colab": {}
      },
      "source": [
        "tf.keras.backend.clear_session()\n",
        "model = tf.keras.models.Sequential([\n",
        "  tf.keras.layers.Conv1D(filters=64, kernel_size=5,\n",
        "                      strides=1, padding=\"causal\",\n",
        "                      activation=\"relu\",\n",
        "                      input_shape=[None, 1]),\n",
        "  tf.keras.layers.Bidirectional(tf.keras.layers.LSTM(32, return_sequences=True)),\n",
        "  tf.keras.layers.Dense(16, activation=\"relu\"),\n",
        "  tf.keras.layers.Dense(8, activation=\"relu\"),\n",
        "  tf.keras.layers.Dense(1),\n",
        "  tf.keras.layers.Lambda(lambda x: x * 400)\n",
        "])"
      ],
      "execution_count": 23,
      "outputs": []
    },
    {
      "cell_type": "markdown",
      "metadata": {
        "id": "JcgA3bIzVO-6",
        "colab_type": "text"
      },
      "source": [
        "### Callback Function"
      ]
    },
    {
      "cell_type": "code",
      "metadata": {
        "id": "isk3A3TIG7vD",
        "colab_type": "code",
        "colab": {}
      },
      "source": [
        "#Learning Rate Scheduler\n",
        "lrs_callback = tf.keras.callbacks.LearningRateScheduler(\n",
        "    lambda epoch: 1e-8 * 10**(2))\n",
        "\n",
        "#Tensorboard\n",
        "!rm -rf /content/logs\n",
        "log_dir=\"/content/logs/\"\n",
        "tensorboard_callback = tf.keras.callbacks.TensorBoard(log_dir=log_dir, histogram_freq=1)\n",
        "\n",
        "#Custom callback\n",
        "class stopTraining(tf.keras.callbacks.Callback):\n",
        "  def on_epoch_end(self, epoch, logs={}):\n",
        "    if(logs.get('mae') is not None and logs.get('mae') <= maeRequirements):\n",
        "      print(\"\\n\\nReached\", maeRequirements, \"MAE, i think it's enough\\n\")\n",
        "      self.model.stop_training = True\n",
        "\n",
        "custom_callback = stopTraining()"
      ],
      "execution_count": 24,
      "outputs": []
    },
    {
      "cell_type": "markdown",
      "metadata": {
        "id": "4O3bC78nXZ7o",
        "colab_type": "text"
      },
      "source": [
        "### Model Training"
      ]
    },
    {
      "cell_type": "code",
      "metadata": {
        "id": "UVjrVP5WVfUp",
        "colab_type": "code",
        "colab": {}
      },
      "source": [
        "optimizer = tf.keras.optimizers.SGD(lr=1e-8, momentum=0.9)\n",
        "\n",
        "model.compile(loss=tf.keras.losses.Huber(),\n",
        "              optimizer=optimizer,\n",
        "              metrics=[\"mae\"])"
      ],
      "execution_count": 25,
      "outputs": []
    },
    {
      "cell_type": "code",
      "metadata": {
        "id": "16zEf09WVjGc",
        "colab_type": "code",
        "colab": {
          "base_uri": "https://localhost:8080/",
          "height": 666
        },
        "outputId": "0843902b-6ef5-459b-982e-c9836346240d"
      },
      "source": [
        "model.fit(train_set, epochs=100, callbacks=[lrs_callback, tensorboard_callback, custom_callback], batch_size=512)"
      ],
      "execution_count": 26,
      "outputs": [
        {
          "output_type": "stream",
          "text": [
            "Epoch 1/100\n",
            "      1/Unknown - 0s 54us/step - loss: 37.4883 - mae: 37.9870WARNING:tensorflow:From /usr/local/lib/python3.6/dist-packages/tensorflow/python/ops/summary_ops_v2.py:1277: stop (from tensorflow.python.eager.profiler) is deprecated and will be removed after 2020-07-01.\n",
            "Instructions for updating:\n",
            "use `tf.profiler.experimental.stop` instead.\n",
            "      2/Unknown - 1s 271ms/step - loss: 37.6791 - mae: 38.1779WARNING:tensorflow:Callbacks method `on_train_batch_end` is slow compared to the batch time (batch time: 0.1773s vs `on_train_batch_end` time: 0.3644s). Check your callbacks.\n",
            "177/177 [==============================] - 31s 177ms/step - loss: 8.3167 - mae: 8.8035\n",
            "Epoch 2/100\n",
            "177/177 [==============================] - 32s 183ms/step - loss: 6.1464 - mae: 6.6297\n",
            "Epoch 3/100\n",
            "177/177 [==============================] - 32s 181ms/step - loss: 5.4182 - mae: 5.8997\n",
            "Epoch 4/100\n",
            "177/177 [==============================] - 31s 175ms/step - loss: 4.9972 - mae: 5.4776\n",
            "Epoch 5/100\n",
            "177/177 [==============================] - 31s 172ms/step - loss: 4.7449 - mae: 5.2244\n",
            "Epoch 6/100\n",
            "177/177 [==============================] - 30s 172ms/step - loss: 4.5850 - mae: 5.0641\n",
            "Epoch 7/100\n",
            "177/177 [==============================] - 31s 177ms/step - loss: 4.4592 - mae: 4.9376\n",
            "Epoch 8/100\n",
            "177/177 [==============================] - 30s 172ms/step - loss: 4.3563 - mae: 4.8344\n",
            "Epoch 9/100\n",
            "177/177 [==============================] - 30s 172ms/step - loss: 4.2599 - mae: 4.7376\n",
            "Epoch 10/100\n",
            "177/177 [==============================] - 31s 173ms/step - loss: 4.1753 - mae: 4.6527\n",
            "Epoch 11/100\n",
            "177/177 [==============================] - 30s 170ms/step - loss: 4.1024 - mae: 4.5795\n",
            "Epoch 12/100\n",
            "177/177 [==============================] - 30s 170ms/step - loss: 4.0320 - mae: 4.5089\n",
            "Epoch 13/100\n",
            "177/177 [==============================] - 30s 169ms/step - loss: 3.9664 - mae: 4.4431\n",
            "Epoch 14/100\n",
            "176/177 [============================>.] - ETA: 0s - loss: 3.9037 - mae: 4.3802\n",
            "\n",
            "Reached 4.4 MAE, i think it's enough\n",
            "\n",
            "177/177 [==============================] - 30s 169ms/step - loss: 3.9037 - mae: 4.3803\n"
          ],
          "name": "stdout"
        },
        {
          "output_type": "execute_result",
          "data": {
            "text/plain": [
              "<tensorflow.python.keras.callbacks.History at 0x7fe84d793550>"
            ]
          },
          "metadata": {
            "tags": []
          },
          "execution_count": 26
        }
      ]
    },
    {
      "cell_type": "markdown",
      "metadata": {
        "id": "w3LnuDUrVUmg",
        "colab_type": "text"
      },
      "source": [
        "## Visualizing model using tensorboard\n"
      ]
    },
    {
      "cell_type": "code",
      "metadata": {
        "id": "sG9YQLawVan0",
        "colab_type": "code",
        "colab": {
          "base_uri": "https://localhost:8080/",
          "height": 666
        },
        "outputId": "1da2d90e-e2ef-42b8-af61-ec95aadc3afc"
      },
      "source": [
        "!tensorboard dev upload --logdir /content/logs \\\n",
        "  --name \"Australian Weather Forecasting Model\" \\\n",
        "  --description \"Dicoding Submission 2 - Time Series. Model made by Fahmi Jabbar\" \\\n",
        "  --one_shot"
      ],
      "execution_count": 27,
      "outputs": [
        {
          "output_type": "stream",
          "text": [
            "2020-08-13 06:32:02.914319: I tensorflow/stream_executor/platform/default/dso_loader.cc:48] Successfully opened dynamic library libcudart.so.10.1\n",
            "\n",
            "***** TensorBoard Uploader *****\n",
            "\n",
            "This will upload your TensorBoard logs to https://tensorboard.dev/ from\n",
            "the following directory:\n",
            "\n",
            "/content/logs\n",
            "\n",
            "This TensorBoard will be visible to everyone. Do not upload sensitive\n",
            "data.\n",
            "\n",
            "Your use of this service is subject to Google's Terms of Service\n",
            "<https://policies.google.com/terms> and Privacy Policy\n",
            "<https://policies.google.com/privacy>, and TensorBoard.dev's Terms of Service\n",
            "<https://tensorboard.dev/policy/terms/>.\n",
            "\n",
            "This notice will not be shown again while you are logged into the uploader.\n",
            "To log out, run `tensorboard dev auth revoke`.\n",
            "\n",
            "Continue? (yes/NO) y\n",
            "\n",
            "Please visit this URL to authorize this application: https://accounts.google.com/o/oauth2/auth?response_type=code&client_id=373649185512-8v619h5kft38l4456nm2dj4ubeqsrvh6.apps.googleusercontent.com&redirect_uri=urn%3Aietf%3Awg%3Aoauth%3A2.0%3Aoob&scope=openid+https%3A%2F%2Fwww.googleapis.com%2Fauth%2Fuserinfo.email&state=D5XQVQH4ZOxCByKKlIN3NUHrBWScFh&prompt=consent&access_type=offline\n",
            "Enter the authorization code: 4/2wG28dFh2aZYGIDZixtDZ7ghFkSoiCxuIyDTY-MqmEs2WZiqlge5cnA\n",
            "\n",
            "Data for the \"graphs\" plugin is now uploaded to TensorBoard.dev! Note that uploaded data is public. If you do not want to upload data for this plugin, use the \"--plugins\" command line argument.\n",
            "Data for the \"histograms\" plugin is now uploaded to TensorBoard.dev! Note that uploaded data is public. If you do not want to upload data for this plugin, use the \"--plugins\" command line argument.\n",
            "Data for the \"hparams\" plugin is now uploaded to TensorBoard.dev! Note that uploaded data is public. If you do not want to upload data for this plugin, use the \"--plugins\" command line argument.\n",
            "Upload started and will continue reading any new data as it's added\n",
            "to the logdir. To stop uploading, press Ctrl-C.\n",
            "\n",
            "View your TensorBoard live at: https://tensorboard.dev/experiment/buPrwt4GSpq9FVQLQ9Wwjg/\n",
            "\n",
            "\u001b[1m[2020-08-13T06:32:22]\u001b[0m Uploader started.\n",
            "\u001b[1m[2020-08-13T06:32:23]\u001b[0m Total uploaded: 28 scalars, 196 tensors (207.8 kB), 1 binary objects (158.4 kB)\n",
            "\u001b[2K\u001b[33mListening for new data in logdir...\u001b[0m\n",
            "Done. View your TensorBoard at https://tensorboard.dev/experiment/buPrwt4GSpq9FVQLQ9Wwjg/\n"
          ],
          "name": "stdout"
        }
      ]
    },
    {
      "cell_type": "markdown",
      "metadata": {
        "id": "8eBvaY1dmvOe",
        "colab_type": "text"
      },
      "source": [
        "Please visit : https://tensorboard.dev/experiment/buPrwt4GSpq9FVQLQ9Wwjg/"
      ]
    },
    {
      "cell_type": "markdown",
      "metadata": {
        "id": "eaC5VirJnd9I",
        "colab_type": "text"
      },
      "source": [
        "Some screenshoots in case the web is expired\n",
        "\n",
        "**Loss Results**\n",
        "\n",
        "![Loss Graph](https://image.prntscr.com/image/bawy5NgrTOmMp1G5K4bYUw.png)\n",
        "\n",
        "**MAE Results**\n",
        "\n",
        "![MAE Graph](https://image.prntscr.com/image/rbsPRdzxRI_5xk5UYEaDtw.png)\n",
        "\n",
        "\n"
      ]
    },
    {
      "cell_type": "markdown",
      "metadata": {
        "id": "uJR48c0IoN8p",
        "colab_type": "text"
      },
      "source": [
        "## Forecasting"
      ]
    },
    {
      "cell_type": "code",
      "metadata": {
        "id": "S2NjNuzztOqD",
        "colab_type": "code",
        "colab": {}
      },
      "source": [
        "#source : https://github.com/lmoroney/dlaicourse/blob/master/TensorFlow%20In%20Practice/Course%204%20-%20S%2BP/S%2BP%20Week%204%20Exercise%20Answer.ipynb\n",
        "def model_forecast(model, series, window_size):\n",
        "    ds = tf.data.Dataset.from_tensor_slices(series)\n",
        "    ds = ds.window(window_size, shift=1, drop_remainder=True)\n",
        "    ds = ds.flat_map(lambda w: w.batch(window_size))\n",
        "    ds = ds.batch(32).prefetch(1)\n",
        "    forecast = model.predict(ds)\n",
        "    return forecast\n",
        "\n",
        "def plot_series(time, series, format=\"-\", start=0, end=None):\n",
        "    plt.plot(time[start:end], series[start:end], format)\n",
        "    plt.xlabel(\"Time\")\n",
        "    plt.ylabel(\"Value\")\n",
        "    plt.xticks([])\n",
        "    plt.grid(True)"
      ],
      "execution_count": 29,
      "outputs": []
    },
    {
      "cell_type": "code",
      "metadata": {
        "id": "-7cUlywEtRDz",
        "colab_type": "code",
        "colab": {}
      },
      "source": [
        "series = np.array(df['MaxTemp'])\n",
        "forecast = model_forecast(model, series[..., np.newaxis], window_size)\n",
        "forecast = forecast[split_time - window_size:-1, -1, 0]"
      ],
      "execution_count": 30,
      "outputs": []
    },
    {
      "cell_type": "code",
      "metadata": {
        "id": "I6vTnDG3tyZ_",
        "colab_type": "code",
        "colab": {
          "base_uri": "https://localhost:8080/",
          "height": 371
        },
        "outputId": "d9cdc1ac-2993-46a0-e46a-1f6db229234e"
      },
      "source": [
        "plt.figure(figsize=(10, 6))\n",
        "plot_series(date_val, x_val)\n",
        "plot_series(date_val, forecast)"
      ],
      "execution_count": 36,
      "outputs": [
        {
          "output_type": "display_data",
          "data": {
            "image/png": "[encoded data removed]",
            "text/plain": [
              "<Figure size 720x432 with 1 Axes>"
            ]
          },
          "metadata": {
            "tags": [],
            "needs_background": "light"
          }
        }
      ]
    },
    {
      "cell_type": "markdown",
      "metadata": {
        "id": "829F5PX-vy8G",
        "colab_type": "text"
      },
      "source": [
        "As you can see, the model did quite well knowing the seasonal time/pattern, but the actual prediction is not 100% accurate due to high losses, but my MAE is below 10% data scale as explained in the code or results."
      ]
    }
  ]
}